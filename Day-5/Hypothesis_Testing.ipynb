{
 "cells": [
  {
   "cell_type": "markdown",
   "metadata": {},
   "source": [
    "1)A random sample of 28 customers at a gas station shows an average gas purchase of 8.9 gallons with a standard deviation of 3.2 gallons. Find the 98% confidence interval estimating the\n",
    "population mean number of gallons purchased at this station. Interpret this result."
   ]
  },
  {
   "cell_type": "markdown",
   "metadata": {},
   "source": [
    "Mean = 8.9 <br/>\n",
    "Standard Devaition = 3.2 <br />\n",
    "N = 28 <br>\n",
    "Confidence = 98%"
   ]
  },
  {
   "cell_type": "markdown",
   "metadata": {},
   "source": [
    "Result:<br/>\n",
    "    =(8.9-(2.326 * (3.2/sqrt(28)))),(8.9+(2.326 * (3.2/sqrt(28)))) <br />\n",
    "    =(8.296,9.5)"
   ]
  },
  {
   "cell_type": "markdown",
   "metadata": {
    "collapsed": true
   },
   "source": [
    "The confidence interval with 98% of confidence is 8.296 to 9.5.<br>\n",
    "From the sample data, with 98% of confidence the population mean is between 8.296 and 9.5 i.e average gas purchase at a gas station is between 8.29 and  9.5."
   ]
  },
  {
   "cell_type": "code",
   "execution_count": null,
   "metadata": {
    "collapsed": true
   },
   "outputs": [],
   "source": []
  },
  {
   "cell_type": "markdown",
   "metadata": {},
   "source": [
    "2)A random sample of 212 high school students in a particular town showed that 56 smoke on aregular basis.\n",
    "Find the 95% confidence interval estimating the population percentage for smokers at this high school.\n",
    "Suppose the national average for smokers in high schools is 34.2%. Does it appear that the\n",
    "students in this particular town smoke less than the national average? Justify your answer."
   ]
  },
  {
   "cell_type": "markdown",
   "metadata": {
    "collapsed": true
   },
   "source": [
    "N = 212 <br>\n",
    "Sample Propotion = 56/212 =0.264 <br>\n",
    "Standard Deviation = sqrt((0.264)*(1-0.264)) =0.3802 <br>\n",
    "Confidence = 95%"
   ]
  },
  {
   "cell_type": "markdown",
   "metadata": {
    "collapsed": true
   },
   "source": [
    "Result:<br>\n",
    "(0.264-(1.96 *(0.3802/sqrt(212)))),(0.264+(1.96 *(0.3802/sqrt(212)))) <br>\n",
    "(0.2123,0.3157)"
   ]
  },
  {
   "cell_type": "markdown",
   "metadata": {
    "collapsed": true
   },
   "source": [
    "From the sample of high school students data, with confidence of 95% the population mean is between 21% and 31.5%.<br>\n",
    "It is given that the national average smokers at high school is 34.2%.Since the population mean of our high school has the maximum of 31.5% which is less than 34.2%.<br>\n",
    "We can conclude that the students smoke less than the national average."
   ]
  },
  {
   "cell_type": "code",
   "execution_count": null,
   "metadata": {
    "collapsed": true
   },
   "outputs": [],
   "source": []
  },
  {
   "cell_type": "markdown",
   "metadata": {},
   "source": [
    "3)A random sample of Ohio cemeteries shows that the average age at death of RevolutionaryWar veterans is 67 years (n = 28, s = 9). Another such random sample showed that the average\n",
    "age at death for Civil War veterans who survived the war is 48 years (n = 77, s = 12).\n",
    "Find the 95% confidence interval estimating the population difference between the age at death of these two groups of veterans."
   ]
  },
  {
   "cell_type": "markdown",
   "metadata": {
    "collapsed": true
   },
   "source": [
    "Given 1)\n",
    "Mean = 67  <br>\n",
    "Standard Devaition = 9 <br>\n",
    "N = 28 <br>\n",
    "\n",
    "Given 2)\n",
    "Mean = 48  <br>\n",
    "Standard Devaition = 12 <br>\n",
    "N = 77 <br>\n",
    "\n",
    "Confidence = 95% <br>\n"
   ]
  },
  {
   "cell_type": "markdown",
   "metadata": {
    "collapsed": true
   },
   "source": [
    "Result:<br>\n",
    "sp=sqrt((((27)*(9*9))+(76*(12*12)))/(103)) <br>\n",
    "CI=(((67-48)-1.96*11.29*0.22),((67-48)+1.96*11.29*0.22)) <BR>\n",
    "=19-4.86,19+4.86 <BR>\n",
    "=(14.14,23.86)."
   ]
  },
  {
   "cell_type": "markdown",
   "metadata": {},
   "source": [
    "The confidence interval with a confidence of 95% is between 14.14 and 23.86. <br>\n",
    "The population difference between the age of death of these two groups is between 14.14 and 23.86 years."
   ]
  },
  {
   "cell_type": "code",
   "execution_count": null,
   "metadata": {
    "collapsed": true
   },
   "outputs": [],
   "source": []
  },
  {
   "cell_type": "markdown",
   "metadata": {},
   "source": [
    "4)A random sample of 423 adult women showed that 64% are currently married. Another sample of 310 adult men showed that 60% are\n",
    "currently married. Find the 95% confidence interval\n",
    "for the difference in the population percentages between women and men.\n",
    "Does it appear that there could be no difference in the population between the percent of men\n",
    "and women who are married? Justify your conclusion."
   ]
  },
  {
   "cell_type": "markdown",
   "metadata": {
    "collapsed": true
   },
   "source": [
    "Given 1)\n",
    "Mean = 0.64  <br>\n",
    "Standard Devaition = sqrt((0.64)*(0.36)) = 0.48 <br>\n",
    "N = 423 <br>\n",
    "\n",
    "Given 2)\n",
    "Mean = 0.60 <br>\n",
    "Standard Devaition = sqrt((0.6)*(0.4)) = 0.489 <br>\n",
    "N = 310 <br>\n",
    "\n",
    "Confidence = 95% <br>"
   ]
  },
  {
   "cell_type": "markdown",
   "metadata": {},
   "source": [
    "Result : <br>\n",
    "=(0.64-0.60)+/-1.96*sqrt((0.2304/423)+(0.2391/310)) <br>\n",
    "=((0.04-0.069),(0.04+0.069)) <br>\n",
    "=(-0.029,0.109)"
   ]
  },
  {
   "cell_type": "markdown",
   "metadata": {},
   "source": [
    "The Critical interval is between -0.029 and 0.109.<BR>\n",
    "Since percent can be negative we can consider -0.029 as 0%. <br>\n",
    "There is 10.9% difference between the men and women who are unmarried from the above population."
   ]
  },
  {
   "cell_type": "code",
   "execution_count": null,
   "metadata": {
    "collapsed": true
   },
   "outputs": [],
   "source": []
  },
  {
   "cell_type": "markdown",
   "metadata": {},
   "source": [
    "1)A group of 26 patients scored 45.3 on a particular medical test after using an experimental drug, with a standard deviation of 5.8. A control group of patients administered a placeboscored 49.7 on the same test. \n",
    "Set up a hypothesis test to compare the experimental group with the control group. (Write out in plain English, not just symbols.)\n",
    "Perform the hypothesis test and interpret the results."
   ]
  },
  {
   "cell_type": "markdown",
   "metadata": {},
   "source": [
    "Given:<br>\n",
    "Mean = 45.3 <br>\n",
    "Standard Deviation = 5.8 <br>\n",
    "N = 26 <br>\n"
   ]
  },
  {
   "cell_type": "markdown",
   "metadata": {
    "collapsed": true
   },
   "source": [
    " Ho=x=49.7 <br>\n",
    " H1=x!=49.7 <br>\n",
    " \n",
    " t = 45.3-49.7/(5.8/sqrt(25) <br>\n",
    " = -4.4/1.16 <br>\n",
    " t=3.79 <br>\n",
    " "
   ]
  },
  {
   "cell_type": "markdown",
   "metadata": {},
   "source": [
    "Since n=26,degree of freedom is 25.\n",
    "If t< value of confidence level,then Ho is accepted else Ho is rejected.<br>\n",
    "So we can interpret result for various confidence level ,\n",
    "For 80% t value is 1.316 and t>1.316 .So Ho is rejected. <br>\n",
    "For 90% t value is 1.708 and t>1.708 .So Ho is rejected. <br>\n",
    "For 95% t value is 2.060 and t>2.060 .So Ho is rejected. <br>\n",
    "For 98% t value is 2.485 and t>2.485 .So Ho is rejected. <br>\n",
    "For 99% t value is 2.787 and t>2.787 .So Ho is rejected. <br>\n",
    "From all the above results till 99% confidence level Ho is rejected.So control group mean is not equal to the sample mean."
   ]
  },
  {
   "cell_type": "code",
   "execution_count": null,
   "metadata": {
    "collapsed": true
   },
   "outputs": [],
   "source": []
  },
  {
   "cell_type": "markdown",
   "metadata": {},
   "source": [
    "2)In a survey of 96 Hillsoro residents a total of 14 admitted to being Bengal’s fans. Is there\n",
    "enough evidence to conclude that fewer than 20% of Hillsboro residents could be Bengal’s fans?"
   ]
  },
  {
   "cell_type": "markdown",
   "metadata": {},
   "source": [
    "Given: <br>\n",
    "N=96 <br>\n",
    "Mean= 0.145 <br>\n",
    "SD = sqrt ((0.145)*(1-0.145)) =0.3521 <br>"
   ]
  },
  {
   "cell_type": "markdown",
   "metadata": {
    "collapsed": true
   },
   "source": [
    "Ho>=20% <BR>\n",
    "H1<20% <BR>\n",
    "Z = 0.145-0.2/(0.3521/sqrt(96))\n",
    "Z=1.532"
   ]
  },
  {
   "cell_type": "markdown",
   "metadata": {},
   "source": [
    "If z>value of confidence level,then Ho is accepted else Ho is rejected. <BR>\n",
    "So we can interpret result for various confidence level , For 50% Z value is 0.674 and z>0.674 .So Ho is rejected. <BR>\n",
    "For 80% Z value is 1.282 and z>1.282 .So Ho is rejected. <BR>\n",
    "For 90% Z value is 1.645 and z< 1.645 .So Ho is accepted . <BR>\n",
    "For 95% Z value is 1.960 and z< 1.960 .So Ho is accepted. <BR>\n",
    "For 98% Z value is 2.326 and z< 2.326 .So Ho is accepted. <BR>\n",
    "For 99% Z value is 2.576 and z< 2.576 .So Ho is accepted. <BR>\n",
    "From all the above results till 80% confidence level Ho is rejected.So  fewer than 20% Hillsboro resident could be Bengali fans.<br>\n",
    "    Above 90% confidence level,Ho is accepted.So fewer than 20%  Hillsboro resident are not Bengali fans."
   ]
  },
  {
   "cell_type": "code",
   "execution_count": null,
   "metadata": {
    "collapsed": true
   },
   "outputs": [],
   "source": []
  },
  {
   "cell_type": "markdown",
   "metadata": {},
   "source": [
    "3)Midterm scores for Math 160 in Winter, 2008 averaged 72.4 with a standard deviation of 12.8\n",
    "(14 students). Midterm scores for Math 160 in Summer, 2008 averaged 83.7 with a standard devation of 7.9 (also 14 students).\n",
    "Is there enough evidence to conclude that, if these are representative samples of all Math 160\n",
    "classes, summer classes perform better than winter classes in Math 160?"
   ]
  },
  {
   "cell_type": "markdown",
   "metadata": {},
   "source": [
    "Given 1) Winter <br>\n",
    "Mean = 72.4 <br>\n",
    "SD = 12.8 <br>\n",
    "N = 14\n",
    "\n",
    "Given 2) Summer <br>\n",
    "Mean = 83.7 <br>\n",
    "SD = 7.9 <br>\n",
    "N = 14"
   ]
  },
  {
   "cell_type": "markdown",
   "metadata": {
    "collapsed": true
   },
   "source": [
    "Ho=mean1=mean2 <br>\n",
    "H1=mean1< mean2 <br>\n",
    "Since sample size is 14 ,we use t test.<br>\n",
    "s^2 = (14*163.84 + 14 * 62.4)/(14+14-2) <br>\n",
    "s^2 = 121.8 <br>\n",
    "t= 72.4 - 83.7/sqrt(121.8*(0.142)) <br>\n",
    "t=0.6494 <br>\n",
    "\n",
    "\n",
    "\n"
   ]
  },
  {
   "cell_type": "markdown",
   "metadata": {},
   "source": [
    "Since sample size is 14, Degree of freedom is 13(Left tailed).<br>\n",
    "with 75% t value is 0.694, t < 0.694.Ho is accepted. <br>\n",
    "with 90% t value is 1.350 , t  < 1.350 .Ho is accepted. <br>\n",
    "with 95% t value is 1.771, t < 1.771.Ho is accepted.<br>\n",
    "with 97.5% t value is 2.160, t < 2.160.Ho is accepted.<br>\n",
    "with 99% t value is 2.650, t < 2.650.Ho is accepted.<br>\n",
    "So from all the cofidence level both the performance in winter and summer are equal .Since Ho is accepted."
   ]
  }
 ],
 "metadata": {
  "kernelspec": {
   "display_name": "Python 3",
   "language": "python",
   "name": "python3"
  },
  "language_info": {
   "codemirror_mode": {
    "name": "ipython",
    "version": 3
   },
   "file_extension": ".py",
   "mimetype": "text/x-python",
   "name": "python",
   "nbconvert_exporter": "python",
   "pygments_lexer": "ipython3",
   "version": "3.6.3"
  }
 },
 "nbformat": 4,
 "nbformat_minor": 2
}
