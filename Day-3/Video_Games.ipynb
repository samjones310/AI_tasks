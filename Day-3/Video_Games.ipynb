{
 "cells": [
  {
   "cell_type": "markdown",
   "metadata": {},
   "source": [
    "Link to dataset : https://www.kaggle.com/rush4ratio/video-game-sales-with-ratings/downloads/video-game-sales-with-ratings.zip/2\n",
    "\n",
    "# Univariate Analysis on Video Game Sales\n",
    "\n",
    "Check and import the required libraries"
   ]
  },
  {
   "cell_type": "code",
   "execution_count": 54,
   "metadata": {
    "collapsed": true
   },
   "outputs": [],
   "source": [
    "import os\n",
    "import pandas as pd\n",
    "import numpy as np\n",
    "import dask.dataframe\n",
    "import matplotlib.pyplot as plt\n",
    "import seaborn as sns"
   ]
  },
  {
   "cell_type": "code",
   "execution_count": 2,
   "metadata": {},
   "outputs": [
    {
     "name": "stdout",
     "output_type": "stream",
     "text": [
      "Enter Filename:Video_Games_Sales_as_at_22_Dec_2016.csv\n"
     ]
    }
   ],
   "source": [
    "os.getcwd()\n",
    "filename=input('Enter Filename:')\n",
    "filename =filename + '.csv'"
   ]
  },
  {
   "cell_type": "markdown",
   "metadata": {},
   "source": [
    "Use different methods to read files"
   ]
  },
  {
   "cell_type": "code",
   "execution_count": 3,
   "metadata": {},
   "outputs": [
    {
     "name": "stdout",
     "output_type": "stream",
     "text": [
      "Wall time: 527 ms\n"
     ]
    }
   ],
   "source": [
    "%%time\n",
    "data=pd.read_csv(filename)"
   ]
  },
  {
   "cell_type": "code",
   "execution_count": 6,
   "metadata": {},
   "outputs": [
    {
     "name": "stdout",
     "output_type": "stream",
     "text": [
      "Wall time: 42.1 ms\n"
     ]
    }
   ],
   "source": [
    "%%time\n",
    "data=dask.dataframe.read_csv(filename)"
   ]
  },
  {
   "cell_type": "markdown",
   "metadata": {},
   "source": [
    "Analyse the structure"
   ]
  },
  {
   "cell_type": "code",
   "execution_count": 16,
   "metadata": {},
   "outputs": [
    {
     "name": "stdout",
     "output_type": "stream",
     "text": [
      "(16719, 16)\n",
      "Name                object\n",
      "Platform            object\n",
      "Year_of_Release    float64\n",
      "Genre               object\n",
      "Publisher           object\n",
      "NA_Sales           float64\n",
      "EU_Sales           float64\n",
      "JP_Sales           float64\n",
      "Other_Sales        float64\n",
      "Global_Sales       float64\n",
      "Critic_Score       float64\n",
      "Critic_Count       float64\n",
      "User_Score          object\n",
      "User_Count         float64\n",
      "Developer           object\n",
      "Rating              object\n",
      "dtype: object\n"
     ]
    }
   ],
   "source": [
    "print(data.shape)\n",
    "print(data.dtypes)"
   ]
  },
  {
   "cell_type": "raw",
   "metadata": {},
   "source": [
    "Create and check the sample from the original data"
   ]
  },
  {
   "cell_type": "code",
   "execution_count": 17,
   "metadata": {},
   "outputs": [
    {
     "data": {
      "text/html": [
       "<div>\n",
       "<style>\n",
       "    .dataframe thead tr:only-child th {\n",
       "        text-align: right;\n",
       "    }\n",
       "\n",
       "    .dataframe thead th {\n",
       "        text-align: left;\n",
       "    }\n",
       "\n",
       "    .dataframe tbody tr th {\n",
       "        vertical-align: top;\n",
       "    }\n",
       "</style>\n",
       "<table border=\"1\" class=\"dataframe\">\n",
       "  <thead>\n",
       "    <tr style=\"text-align: right;\">\n",
       "      <th></th>\n",
       "      <th>Name</th>\n",
       "      <th>Platform</th>\n",
       "      <th>Year_of_Release</th>\n",
       "      <th>Genre</th>\n",
       "      <th>Publisher</th>\n",
       "      <th>NA_Sales</th>\n",
       "      <th>EU_Sales</th>\n",
       "      <th>JP_Sales</th>\n",
       "      <th>Other_Sales</th>\n",
       "      <th>Global_Sales</th>\n",
       "      <th>Critic_Score</th>\n",
       "      <th>Critic_Count</th>\n",
       "      <th>User_Score</th>\n",
       "      <th>User_Count</th>\n",
       "      <th>Developer</th>\n",
       "      <th>Rating</th>\n",
       "    </tr>\n",
       "  </thead>\n",
       "  <tbody>\n",
       "    <tr>\n",
       "      <th>4591</th>\n",
       "      <td>JGTC: All-Japan Grand Touring Car Championship</td>\n",
       "      <td>PS</td>\n",
       "      <td>1998.0</td>\n",
       "      <td>Racing</td>\n",
       "      <td>TYO</td>\n",
       "      <td>0.23</td>\n",
       "      <td>0.16</td>\n",
       "      <td>0.00</td>\n",
       "      <td>0.03</td>\n",
       "      <td>0.42</td>\n",
       "      <td>NaN</td>\n",
       "      <td>NaN</td>\n",
       "      <td>NaN</td>\n",
       "      <td>NaN</td>\n",
       "      <td>NaN</td>\n",
       "      <td>NaN</td>\n",
       "    </tr>\n",
       "    <tr>\n",
       "      <th>11311</th>\n",
       "      <td>SingStar: Made In Germany</td>\n",
       "      <td>PS3</td>\n",
       "      <td>2009.0</td>\n",
       "      <td>Misc</td>\n",
       "      <td>Sony Computer Entertainment</td>\n",
       "      <td>0.00</td>\n",
       "      <td>0.06</td>\n",
       "      <td>0.00</td>\n",
       "      <td>0.02</td>\n",
       "      <td>0.08</td>\n",
       "      <td>NaN</td>\n",
       "      <td>NaN</td>\n",
       "      <td>NaN</td>\n",
       "      <td>NaN</td>\n",
       "      <td>NaN</td>\n",
       "      <td>NaN</td>\n",
       "    </tr>\n",
       "    <tr>\n",
       "      <th>4715</th>\n",
       "      <td>Densha De Go! 2</td>\n",
       "      <td>PS</td>\n",
       "      <td>1999.0</td>\n",
       "      <td>Simulation</td>\n",
       "      <td>Taito</td>\n",
       "      <td>0.00</td>\n",
       "      <td>0.00</td>\n",
       "      <td>0.38</td>\n",
       "      <td>0.03</td>\n",
       "      <td>0.41</td>\n",
       "      <td>NaN</td>\n",
       "      <td>NaN</td>\n",
       "      <td>NaN</td>\n",
       "      <td>NaN</td>\n",
       "      <td>NaN</td>\n",
       "      <td>NaN</td>\n",
       "    </tr>\n",
       "    <tr>\n",
       "      <th>5664</th>\n",
       "      <td>UEFA Euro 2008 Austria-Switzerland</td>\n",
       "      <td>PS2</td>\n",
       "      <td>2008.0</td>\n",
       "      <td>Sports</td>\n",
       "      <td>Electronic Arts</td>\n",
       "      <td>0.03</td>\n",
       "      <td>0.00</td>\n",
       "      <td>0.00</td>\n",
       "      <td>0.28</td>\n",
       "      <td>0.32</td>\n",
       "      <td>NaN</td>\n",
       "      <td>NaN</td>\n",
       "      <td>NaN</td>\n",
       "      <td>NaN</td>\n",
       "      <td>NaN</td>\n",
       "      <td>NaN</td>\n",
       "    </tr>\n",
       "    <tr>\n",
       "      <th>15033</th>\n",
       "      <td>Jikkyou Powerful Pro Yakyuu 12 Ketteiban</td>\n",
       "      <td>GC</td>\n",
       "      <td>2005.0</td>\n",
       "      <td>Sports</td>\n",
       "      <td>Konami Digital Entertainment</td>\n",
       "      <td>0.00</td>\n",
       "      <td>0.00</td>\n",
       "      <td>0.02</td>\n",
       "      <td>0.00</td>\n",
       "      <td>0.02</td>\n",
       "      <td>NaN</td>\n",
       "      <td>NaN</td>\n",
       "      <td>NaN</td>\n",
       "      <td>NaN</td>\n",
       "      <td>NaN</td>\n",
       "      <td>NaN</td>\n",
       "    </tr>\n",
       "    <tr>\n",
       "      <th>6908</th>\n",
       "      <td>Galaga: Destination Earth</td>\n",
       "      <td>PS</td>\n",
       "      <td>2000.0</td>\n",
       "      <td>Shooter</td>\n",
       "      <td>Hasbro Interactive</td>\n",
       "      <td>0.13</td>\n",
       "      <td>0.09</td>\n",
       "      <td>0.00</td>\n",
       "      <td>0.02</td>\n",
       "      <td>0.24</td>\n",
       "      <td>NaN</td>\n",
       "      <td>NaN</td>\n",
       "      <td>8</td>\n",
       "      <td>10.0</td>\n",
       "      <td>Hasbro Interactive</td>\n",
       "      <td>E</td>\n",
       "    </tr>\n",
       "    <tr>\n",
       "      <th>16401</th>\n",
       "      <td>Rakushou! Pachi-Slot Sengen 4</td>\n",
       "      <td>PS2</td>\n",
       "      <td>2006.0</td>\n",
       "      <td>Misc</td>\n",
       "      <td>Tecmo Koei</td>\n",
       "      <td>0.00</td>\n",
       "      <td>0.00</td>\n",
       "      <td>0.01</td>\n",
       "      <td>0.00</td>\n",
       "      <td>0.01</td>\n",
       "      <td>NaN</td>\n",
       "      <td>NaN</td>\n",
       "      <td>NaN</td>\n",
       "      <td>NaN</td>\n",
       "      <td>NaN</td>\n",
       "      <td>NaN</td>\n",
       "    </tr>\n",
       "    <tr>\n",
       "      <th>6949</th>\n",
       "      <td>Disney's A Christmas Carol</td>\n",
       "      <td>DS</td>\n",
       "      <td>2009.0</td>\n",
       "      <td>Adventure</td>\n",
       "      <td>Disney Interactive Studios</td>\n",
       "      <td>0.21</td>\n",
       "      <td>0.01</td>\n",
       "      <td>0.00</td>\n",
       "      <td>0.02</td>\n",
       "      <td>0.23</td>\n",
       "      <td>66.0</td>\n",
       "      <td>7.0</td>\n",
       "      <td>6.5</td>\n",
       "      <td>4.0</td>\n",
       "      <td>Sumo Digital</td>\n",
       "      <td>E</td>\n",
       "    </tr>\n",
       "    <tr>\n",
       "      <th>6601</th>\n",
       "      <td>The Suite Life of Zack &amp; Cody: Tipton Trouble</td>\n",
       "      <td>DS</td>\n",
       "      <td>2006.0</td>\n",
       "      <td>Action</td>\n",
       "      <td>Disney Interactive Studios</td>\n",
       "      <td>0.23</td>\n",
       "      <td>0.00</td>\n",
       "      <td>0.00</td>\n",
       "      <td>0.02</td>\n",
       "      <td>0.25</td>\n",
       "      <td>NaN</td>\n",
       "      <td>NaN</td>\n",
       "      <td>NaN</td>\n",
       "      <td>NaN</td>\n",
       "      <td>NaN</td>\n",
       "      <td>NaN</td>\n",
       "    </tr>\n",
       "    <tr>\n",
       "      <th>11098</th>\n",
       "      <td>Sega Casino</td>\n",
       "      <td>DS</td>\n",
       "      <td>2005.0</td>\n",
       "      <td>Misc</td>\n",
       "      <td>Sega</td>\n",
       "      <td>0.08</td>\n",
       "      <td>0.00</td>\n",
       "      <td>0.00</td>\n",
       "      <td>0.01</td>\n",
       "      <td>0.09</td>\n",
       "      <td>61.0</td>\n",
       "      <td>13.0</td>\n",
       "      <td>NaN</td>\n",
       "      <td>NaN</td>\n",
       "      <td>TOSE</td>\n",
       "      <td>T</td>\n",
       "    </tr>\n",
       "  </tbody>\n",
       "</table>\n",
       "</div>"
      ],
      "text/plain": [
       "                                                 Name Platform  \\\n",
       "4591   JGTC: All-Japan Grand Touring Car Championship       PS   \n",
       "11311                       SingStar: Made In Germany      PS3   \n",
       "4715                                  Densha De Go! 2       PS   \n",
       "5664               UEFA Euro 2008 Austria-Switzerland      PS2   \n",
       "15033        Jikkyou Powerful Pro Yakyuu 12 Ketteiban       GC   \n",
       "6908                        Galaga: Destination Earth       PS   \n",
       "16401                   Rakushou! Pachi-Slot Sengen 4      PS2   \n",
       "6949                       Disney's A Christmas Carol       DS   \n",
       "6601    The Suite Life of Zack & Cody: Tipton Trouble       DS   \n",
       "11098                                     Sega Casino       DS   \n",
       "\n",
       "       Year_of_Release       Genre                     Publisher  NA_Sales  \\\n",
       "4591            1998.0      Racing                           TYO      0.23   \n",
       "11311           2009.0        Misc   Sony Computer Entertainment      0.00   \n",
       "4715            1999.0  Simulation                         Taito      0.00   \n",
       "5664            2008.0      Sports               Electronic Arts      0.03   \n",
       "15033           2005.0      Sports  Konami Digital Entertainment      0.00   \n",
       "6908            2000.0     Shooter            Hasbro Interactive      0.13   \n",
       "16401           2006.0        Misc                    Tecmo Koei      0.00   \n",
       "6949            2009.0   Adventure    Disney Interactive Studios      0.21   \n",
       "6601            2006.0      Action    Disney Interactive Studios      0.23   \n",
       "11098           2005.0        Misc                          Sega      0.08   \n",
       "\n",
       "       EU_Sales  JP_Sales  Other_Sales  Global_Sales  Critic_Score  \\\n",
       "4591       0.16      0.00         0.03          0.42           NaN   \n",
       "11311      0.06      0.00         0.02          0.08           NaN   \n",
       "4715       0.00      0.38         0.03          0.41           NaN   \n",
       "5664       0.00      0.00         0.28          0.32           NaN   \n",
       "15033      0.00      0.02         0.00          0.02           NaN   \n",
       "6908       0.09      0.00         0.02          0.24           NaN   \n",
       "16401      0.00      0.01         0.00          0.01           NaN   \n",
       "6949       0.01      0.00         0.02          0.23          66.0   \n",
       "6601       0.00      0.00         0.02          0.25           NaN   \n",
       "11098      0.00      0.00         0.01          0.09          61.0   \n",
       "\n",
       "       Critic_Count User_Score  User_Count           Developer Rating  \n",
       "4591            NaN        NaN         NaN                 NaN    NaN  \n",
       "11311           NaN        NaN         NaN                 NaN    NaN  \n",
       "4715            NaN        NaN         NaN                 NaN    NaN  \n",
       "5664            NaN        NaN         NaN                 NaN    NaN  \n",
       "15033           NaN        NaN         NaN                 NaN    NaN  \n",
       "6908            NaN          8        10.0  Hasbro Interactive      E  \n",
       "16401           NaN        NaN         NaN                 NaN    NaN  \n",
       "6949            7.0        6.5         4.0        Sumo Digital      E  \n",
       "6601            NaN        NaN         NaN                 NaN    NaN  \n",
       "11098          13.0        NaN         NaN                TOSE      T  "
      ]
     },
     "execution_count": 17,
     "metadata": {},
     "output_type": "execute_result"
    }
   ],
   "source": [
    "data_random=data.sample(1000)\n",
    "data_random.head(10)"
   ]
  },
  {
   "cell_type": "code",
   "execution_count": 18,
   "metadata": {},
   "outputs": [
    {
     "name": "stdout",
     "output_type": "stream",
     "text": [
      "Column Names : ['Name', 'Platform', 'Year_of_Release', 'Genre', 'Publisher', 'NA_Sales', 'EU_Sales', 'JP_Sales', 'Other_Sales', 'Global_Sales', 'Critic_Score', 'Critic_Count', 'User_Score', 'User_Count', 'Developer', 'Rating']\n"
     ]
    }
   ],
   "source": [
    "colnames=data.columns.tolist()\n",
    "print(\"Column Names :\",colnames)"
   ]
  },
  {
   "cell_type": "markdown",
   "metadata": {},
   "source": [
    "Define datatype only interger and float"
   ]
  },
  {
   "cell_type": "code",
   "execution_count": 4,
   "metadata": {},
   "outputs": [
    {
     "data": {
      "text/html": [
       "<div>\n",
       "<style>\n",
       "    .dataframe thead tr:only-child th {\n",
       "        text-align: right;\n",
       "    }\n",
       "\n",
       "    .dataframe thead th {\n",
       "        text-align: left;\n",
       "    }\n",
       "\n",
       "    .dataframe tbody tr th {\n",
       "        vertical-align: top;\n",
       "    }\n",
       "</style>\n",
       "<table border=\"1\" class=\"dataframe\">\n",
       "  <thead>\n",
       "    <tr style=\"text-align: right;\">\n",
       "      <th></th>\n",
       "      <th>Year_of_Release</th>\n",
       "      <th>NA_Sales</th>\n",
       "      <th>EU_Sales</th>\n",
       "      <th>JP_Sales</th>\n",
       "      <th>Other_Sales</th>\n",
       "      <th>Global_Sales</th>\n",
       "      <th>Critic_Score</th>\n",
       "      <th>Critic_Count</th>\n",
       "      <th>User_Count</th>\n",
       "    </tr>\n",
       "  </thead>\n",
       "  <tbody>\n",
       "    <tr>\n",
       "      <th>0</th>\n",
       "      <td>2006.0</td>\n",
       "      <td>41.36</td>\n",
       "      <td>28.96</td>\n",
       "      <td>3.77</td>\n",
       "      <td>8.45</td>\n",
       "      <td>82.53</td>\n",
       "      <td>76.0</td>\n",
       "      <td>51.0</td>\n",
       "      <td>322.0</td>\n",
       "    </tr>\n",
       "    <tr>\n",
       "      <th>1</th>\n",
       "      <td>1985.0</td>\n",
       "      <td>29.08</td>\n",
       "      <td>3.58</td>\n",
       "      <td>6.81</td>\n",
       "      <td>0.77</td>\n",
       "      <td>40.24</td>\n",
       "      <td>NaN</td>\n",
       "      <td>NaN</td>\n",
       "      <td>NaN</td>\n",
       "    </tr>\n",
       "    <tr>\n",
       "      <th>2</th>\n",
       "      <td>2008.0</td>\n",
       "      <td>15.68</td>\n",
       "      <td>12.76</td>\n",
       "      <td>3.79</td>\n",
       "      <td>3.29</td>\n",
       "      <td>35.52</td>\n",
       "      <td>82.0</td>\n",
       "      <td>73.0</td>\n",
       "      <td>709.0</td>\n",
       "    </tr>\n",
       "    <tr>\n",
       "      <th>3</th>\n",
       "      <td>2009.0</td>\n",
       "      <td>15.61</td>\n",
       "      <td>10.93</td>\n",
       "      <td>3.28</td>\n",
       "      <td>2.95</td>\n",
       "      <td>32.77</td>\n",
       "      <td>80.0</td>\n",
       "      <td>73.0</td>\n",
       "      <td>192.0</td>\n",
       "    </tr>\n",
       "    <tr>\n",
       "      <th>4</th>\n",
       "      <td>1996.0</td>\n",
       "      <td>11.27</td>\n",
       "      <td>8.89</td>\n",
       "      <td>10.22</td>\n",
       "      <td>1.00</td>\n",
       "      <td>31.37</td>\n",
       "      <td>NaN</td>\n",
       "      <td>NaN</td>\n",
       "      <td>NaN</td>\n",
       "    </tr>\n",
       "  </tbody>\n",
       "</table>\n",
       "</div>"
      ],
      "text/plain": [
       "   Year_of_Release  NA_Sales  EU_Sales  JP_Sales  Other_Sales  Global_Sales  \\\n",
       "0           2006.0     41.36     28.96      3.77         8.45         82.53   \n",
       "1           1985.0     29.08      3.58      6.81         0.77         40.24   \n",
       "2           2008.0     15.68     12.76      3.79         3.29         35.52   \n",
       "3           2009.0     15.61     10.93      3.28         2.95         32.77   \n",
       "4           1996.0     11.27      8.89     10.22         1.00         31.37   \n",
       "\n",
       "   Critic_Score  Critic_Count  User_Count  \n",
       "0          76.0          51.0       322.0  \n",
       "1           NaN           NaN         NaN  \n",
       "2          82.0          73.0       709.0  \n",
       "3          80.0          73.0       192.0  \n",
       "4           NaN           NaN         NaN  "
      ]
     },
     "execution_count": 4,
     "metadata": {},
     "output_type": "execute_result"
    }
   ],
   "source": [
    "datatype=['int16','int32','int64','float16','float32','float64']\n",
    "data= data.select_dtypes(include=datatype)\n",
    "data.head()"
   ]
  },
  {
   "cell_type": "markdown",
   "metadata": {},
   "source": [
    "Check the summary of all the columns"
   ]
  },
  {
   "cell_type": "code",
   "execution_count": 20,
   "metadata": {},
   "outputs": [
    {
     "data": {
      "text/html": [
       "<div>\n",
       "<style>\n",
       "    .dataframe thead tr:only-child th {\n",
       "        text-align: right;\n",
       "    }\n",
       "\n",
       "    .dataframe thead th {\n",
       "        text-align: left;\n",
       "    }\n",
       "\n",
       "    .dataframe tbody tr th {\n",
       "        vertical-align: top;\n",
       "    }\n",
       "</style>\n",
       "<table border=\"1\" class=\"dataframe\">\n",
       "  <thead>\n",
       "    <tr style=\"text-align: right;\">\n",
       "      <th></th>\n",
       "      <th>Year_of_Release</th>\n",
       "      <th>NA_Sales</th>\n",
       "      <th>EU_Sales</th>\n",
       "      <th>JP_Sales</th>\n",
       "      <th>Other_Sales</th>\n",
       "      <th>Global_Sales</th>\n",
       "      <th>Critic_Score</th>\n",
       "      <th>Critic_Count</th>\n",
       "      <th>User_Count</th>\n",
       "    </tr>\n",
       "  </thead>\n",
       "  <tbody>\n",
       "    <tr>\n",
       "      <th>count</th>\n",
       "      <td>16450.000000</td>\n",
       "      <td>16719.000000</td>\n",
       "      <td>16719.000000</td>\n",
       "      <td>16719.000000</td>\n",
       "      <td>16719.000000</td>\n",
       "      <td>16719.000000</td>\n",
       "      <td>8137.000000</td>\n",
       "      <td>8137.000000</td>\n",
       "      <td>7590.000000</td>\n",
       "    </tr>\n",
       "    <tr>\n",
       "      <th>mean</th>\n",
       "      <td>2006.487356</td>\n",
       "      <td>0.263330</td>\n",
       "      <td>0.145025</td>\n",
       "      <td>0.077602</td>\n",
       "      <td>0.047332</td>\n",
       "      <td>0.533543</td>\n",
       "      <td>68.967679</td>\n",
       "      <td>26.360821</td>\n",
       "      <td>162.229908</td>\n",
       "    </tr>\n",
       "    <tr>\n",
       "      <th>std</th>\n",
       "      <td>5.878995</td>\n",
       "      <td>0.813514</td>\n",
       "      <td>0.503283</td>\n",
       "      <td>0.308818</td>\n",
       "      <td>0.186710</td>\n",
       "      <td>1.547935</td>\n",
       "      <td>13.938165</td>\n",
       "      <td>18.980495</td>\n",
       "      <td>561.282326</td>\n",
       "    </tr>\n",
       "    <tr>\n",
       "      <th>min</th>\n",
       "      <td>1980.000000</td>\n",
       "      <td>0.000000</td>\n",
       "      <td>0.000000</td>\n",
       "      <td>0.000000</td>\n",
       "      <td>0.000000</td>\n",
       "      <td>0.010000</td>\n",
       "      <td>13.000000</td>\n",
       "      <td>3.000000</td>\n",
       "      <td>4.000000</td>\n",
       "    </tr>\n",
       "    <tr>\n",
       "      <th>25%</th>\n",
       "      <td>2003.000000</td>\n",
       "      <td>0.000000</td>\n",
       "      <td>0.000000</td>\n",
       "      <td>0.000000</td>\n",
       "      <td>0.000000</td>\n",
       "      <td>0.060000</td>\n",
       "      <td>60.000000</td>\n",
       "      <td>12.000000</td>\n",
       "      <td>10.000000</td>\n",
       "    </tr>\n",
       "    <tr>\n",
       "      <th>50%</th>\n",
       "      <td>2007.000000</td>\n",
       "      <td>0.080000</td>\n",
       "      <td>0.020000</td>\n",
       "      <td>0.000000</td>\n",
       "      <td>0.010000</td>\n",
       "      <td>0.170000</td>\n",
       "      <td>71.000000</td>\n",
       "      <td>21.000000</td>\n",
       "      <td>24.000000</td>\n",
       "    </tr>\n",
       "    <tr>\n",
       "      <th>75%</th>\n",
       "      <td>2010.000000</td>\n",
       "      <td>0.240000</td>\n",
       "      <td>0.110000</td>\n",
       "      <td>0.040000</td>\n",
       "      <td>0.030000</td>\n",
       "      <td>0.470000</td>\n",
       "      <td>79.000000</td>\n",
       "      <td>36.000000</td>\n",
       "      <td>81.000000</td>\n",
       "    </tr>\n",
       "    <tr>\n",
       "      <th>max</th>\n",
       "      <td>2020.000000</td>\n",
       "      <td>41.360000</td>\n",
       "      <td>28.960000</td>\n",
       "      <td>10.220000</td>\n",
       "      <td>10.570000</td>\n",
       "      <td>82.530000</td>\n",
       "      <td>98.000000</td>\n",
       "      <td>113.000000</td>\n",
       "      <td>10665.000000</td>\n",
       "    </tr>\n",
       "  </tbody>\n",
       "</table>\n",
       "</div>"
      ],
      "text/plain": [
       "       Year_of_Release      NA_Sales      EU_Sales      JP_Sales  \\\n",
       "count     16450.000000  16719.000000  16719.000000  16719.000000   \n",
       "mean       2006.487356      0.263330      0.145025      0.077602   \n",
       "std           5.878995      0.813514      0.503283      0.308818   \n",
       "min        1980.000000      0.000000      0.000000      0.000000   \n",
       "25%        2003.000000      0.000000      0.000000      0.000000   \n",
       "50%        2007.000000      0.080000      0.020000      0.000000   \n",
       "75%        2010.000000      0.240000      0.110000      0.040000   \n",
       "max        2020.000000     41.360000     28.960000     10.220000   \n",
       "\n",
       "        Other_Sales  Global_Sales  Critic_Score  Critic_Count    User_Count  \n",
       "count  16719.000000  16719.000000   8137.000000   8137.000000   7590.000000  \n",
       "mean       0.047332      0.533543     68.967679     26.360821    162.229908  \n",
       "std        0.186710      1.547935     13.938165     18.980495    561.282326  \n",
       "min        0.000000      0.010000     13.000000      3.000000      4.000000  \n",
       "25%        0.000000      0.060000     60.000000     12.000000     10.000000  \n",
       "50%        0.010000      0.170000     71.000000     21.000000     24.000000  \n",
       "75%        0.030000      0.470000     79.000000     36.000000     81.000000  \n",
       "max       10.570000     82.530000     98.000000    113.000000  10665.000000  "
      ]
     },
     "execution_count": 20,
     "metadata": {},
     "output_type": "execute_result"
    }
   ],
   "source": [
    "data.describe(include='all')"
   ]
  },
  {
   "cell_type": "markdown",
   "metadata": {},
   "source": [
    "Check for tha na values"
   ]
  },
  {
   "cell_type": "code",
   "execution_count": 21,
   "metadata": {},
   "outputs": [
    {
     "name": "stdout",
     "output_type": "stream",
     "text": [
      "Year_of_Release     269\n",
      "NA_Sales              0\n",
      "EU_Sales              0\n",
      "JP_Sales              0\n",
      "Other_Sales           0\n",
      "Global_Sales          0\n",
      "Critic_Score       8582\n",
      "Critic_Count       8582\n",
      "User_Count         9129\n",
      "dtype: int64\n"
     ]
    }
   ],
   "source": [
    "print(data.isnull().sum(axis=0))"
   ]
  },
  {
   "cell_type": "markdown",
   "metadata": {},
   "source": [
    "Drop all the na values and check the shape"
   ]
  },
  {
   "cell_type": "code",
   "execution_count": 23,
   "metadata": {
    "collapsed": true
   },
   "outputs": [],
   "source": [
    "data=data.dropna()"
   ]
  },
  {
   "cell_type": "code",
   "execution_count": 24,
   "metadata": {},
   "outputs": [
    {
     "data": {
      "text/plain": [
       "(6894, 9)"
      ]
     },
     "execution_count": 24,
     "metadata": {},
     "output_type": "execute_result"
    }
   ],
   "source": [
    "data.shape"
   ]
  },
  {
   "cell_type": "markdown",
   "metadata": {},
   "source": [
    "Use colname to get the column name of data type int"
   ]
  },
  {
   "cell_type": "code",
   "execution_count": 5,
   "metadata": {},
   "outputs": [
    {
     "name": "stdout",
     "output_type": "stream",
     "text": [
      "Column Names : ['Year_of_Release', 'NA_Sales', 'EU_Sales', 'JP_Sales', 'Other_Sales', 'Global_Sales', 'Critic_Score', 'Critic_Count', 'User_Count']\n"
     ]
    }
   ],
   "source": [
    "colname=data.columns.tolist()\n",
    "print(\"Column Names :\",colname)"
   ]
  },
  {
   "cell_type": "markdown",
   "metadata": {},
   "source": [
    " Generate mean,median,mode,sd,var,range,iqr for all the columns"
   ]
  },
  {
   "cell_type": "code",
   "execution_count": 6,
   "metadata": {},
   "outputs": [
    {
     "name": "stdout",
     "output_type": "stream",
     "text": [
      "[['Operations', 'Year_of_Release', 'NA_Sales', 'EU_Sales', 'JP_Sales', 'Other_Sales', 'Global_Sales', 'Critic_Score', 'Critic_Count', 'User_Count'], ['Maximum', 2020.0, 41.36, 28.96, 10.22, 10.57, 82.53, 98.0, 113.0, 10665.0], ['Minimum', 1980.0, 0.0, 0.0, 0.0, 0.0, 0.01, 13.0, 3.0, 4.0], ['Mean', 2006.4873556231003, 0.2633303427238687, 0.14502482205876838, 0.07760212931394815, 0.04733177821639351, 0.5335426759974459, 68.96767850559173, 26.360820941378886, 162.22990777338603], ['Median', 2007.0, 0.08, 0.02, 0.0, 0.01, 0.17, 71.0, 21.0, 24.0], ['mode', 2008.0, 0.0, 0.0, 0.0, 0.0, 0.02, 70.0, 4.0, 4.0]]\n"
     ]
    }
   ],
   "source": [
    "maxi =['Maximum']+data.max(axis=0,skipna=True).tolist()\n",
    "mini=['Minimum']+data.min(axis=0,skipna=True).tolist()\n",
    "mean_data=['Mean']+data.mean(axis=0,skipna=True).tolist()\n",
    "median   =['Median']+data.median(axis=0,skipna=True).tolist()\n",
    "mode1=data.mode(axis=0)\n",
    "mode1=mode1.values.tolist()\n",
    "mode=['mode']\n",
    "for i in mode1[0]:\n",
    "    mode.append(i)\n",
    "colname=['Operations']+list(data.columns)\n",
    "l1=[colname,maxi,mini,mean_data,median,mode]\n",
    "print(l1)\n",
    "      "
   ]
  },
  {
   "cell_type": "code",
   "execution_count": 7,
   "metadata": {},
   "outputs": [
    {
     "name": "stdout",
     "output_type": "stream",
     "text": [
      "[['Operations', 'Year_of_Release', 'NA_Sales', 'EU_Sales', 'JP_Sales', 'Other_Sales', 'Global_Sales', 'Critic_Score', 'Critic_Count', 'User_Count'], ['Variance', 34.562579486269144, 0.6618047593323195, 0.25329407612752874, 0.09536860685274313, 0.03486058563383294, 2.396103150334869, 194.27243110213473, 360.25917277731503, 315037.8497576681], ['Standard Deviation', 5.87899476834851, 0.8135138347516405, 0.503283296094286, 0.3088180805146343, 0.18670989698950866, 1.5479351247177218, 13.938164552843201, 18.98049453458247, 561.282326247378], ['Quatile 1', 2003.0, 0.0, 0.0, 0.0, 0.0, 0.06, 60.0, 12.0, 10.0], ['Quatile 2', 2007.0, 0.08, 0.02, 0.0, 0.01, 0.17, 71.0, 21.0, 24.0], ['Quatile 3', 2010.0, 0.24, 0.11, 0.04, 0.03, 0.47, 79.0, 36.0, 81.0]]\n"
     ]
    }
   ],
   "source": [
    "variance =['Variance']+data.var(axis=0,skipna=True).tolist()\n",
    "standarddev=['Standard Deviation']+data.std(axis=0) .tolist()\n",
    "q1=['Quatile 1']+data.quantile(0.25,axis=0) .tolist()\n",
    "q2=['Quatile 2']+data.quantile(0.5,axis=0) .tolist()\n",
    "q3=['Quatile 3']+data.quantile(0.75,axis=0) .tolist()\n",
    "colname=['Operations']+list(data.columns)\n",
    "l=[colname,variance,standarddev,q1,q2,q3]\n",
    "print(l)"
   ]
  },
  {
   "cell_type": "code",
   "execution_count": 9,
   "metadata": {},
   "outputs": [
    {
     "name": "stdout",
     "output_type": "stream",
     "text": [
      "+--------------------+--------------------+--------------------+---------------------+---------------------+---------------------+--------------------+--------------------+--------------------+-------------------+\n",
      "|     Operations     |  Year_of_Release   |      NA_Sales      |       EU_Sales      |       JP_Sales      |     Other_Sales     |    Global_Sales    |    Critic_Score    |    Critic_Count    |     User_Count    |\n",
      "+--------------------+--------------------+--------------------+---------------------+---------------------+---------------------+--------------------+--------------------+--------------------+-------------------+\n",
      "|      Variance      | 34.562579486269144 | 0.6618047593323195 | 0.25329407612752874 | 0.09536860685274313 | 0.03486058563383294 | 2.396103150334869  | 194.27243110213473 | 360.25917277731503 | 315037.8497576681 |\n",
      "| Standard Deviation |  5.87899476834851  | 0.8135138347516405 |  0.503283296094286  |  0.3088180805146343 | 0.18670989698950866 | 1.5479351247177218 | 13.938164552843201 | 18.98049453458247  |  561.282326247378 |\n",
      "|     Quatile 1      |       2003.0       |        0.0         |         0.0         |         0.0         |         0.0         |        0.06        |        60.0        |        12.0        |        10.0       |\n",
      "|     Quatile 2      |       2007.0       |        0.08        |         0.02        |         0.0         |         0.01        |        0.17        |        71.0        |        21.0        |        24.0       |\n",
      "|     Quatile 3      |       2010.0       |        0.24        |         0.11        |         0.04        |         0.03        |        0.47        |        79.0        |        36.0        |        81.0       |\n",
      "+--------------------+--------------------+--------------------+---------------------+---------------------+---------------------+--------------------+--------------------+--------------------+-------------------+\n"
     ]
    }
   ],
   "source": [
    "import prettytable\n",
    "tab=prettytable.PrettyTable(l[0])\n",
    "for i in range(1,len(l)):\n",
    "    tab.add_row(l[i])\n",
    "print(tab)"
   ]
  },
  {
   "cell_type": "markdown",
   "metadata": {},
   "source": [
    "Plot a boxplot for all the columns"
   ]
  },
  {
   "cell_type": "code",
   "execution_count": 43,
   "metadata": {},
   "outputs": [
    {
     "data": {
      "image/png": "[encoded data removed]",
      "text/plain": [
       "<matplotlib.figure.Figure at 0x1f99ce07f28>"
      ]
     },
     "metadata": {},
     "output_type": "display_data"
    }
   ],
   "source": [
    "plt.figure(figsize=(14,8))\n",
    "data.boxplot()\n",
    "plt.show()"
   ]
  },
  {
   "cell_type": "markdown",
   "metadata": {},
   "source": [
    "Check histogram plot to analyse the distribution of every variable"
   ]
  },
  {
   "cell_type": "code",
   "execution_count": 54,
   "metadata": {},
   "outputs": [
    {
     "data": {
      "image/png": "[encoded data removed]",
      "text/plain": [
       "<matplotlib.figure.Figure at 0x1f99d43ed30>"
      ]
     },
     "metadata": {},
     "output_type": "display_data"
    }
   ],
   "source": [
    "bins = np.linspace(0, 3, 100)\n",
    "plt.hist(data['EU_Sales'], bins)\n",
    "plt.title('EU Sales')\n",
    "plt.show()\n"
   ]
  },
  {
   "cell_type": "markdown",
   "metadata": {},
   "source": [
    "To change the skewness while taking log use log(1+value) because log 0 is undefined so it is advisable to use 1+log"
   ]
  },
  {
   "cell_type": "markdown",
   "metadata": {},
   "source": [
    "The EU_Sales is right skewed.For right skew we can use log,square root or cube root conversion."
   ]
  },
  {
   "cell_type": "code",
   "execution_count": 60,
   "metadata": {},
   "outputs": [
    {
     "data": {
      "image/png": "[encoded data removed]",
      "text/plain": [
       "<matplotlib.figure.Figure at 0x2763c099240>"
      ]
     },
     "metadata": {},
     "output_type": "display_data"
    }
   ],
   "source": [
    "sns.distplot(np.power(data.EU_Sales.dropna(),1/5))\n",
    "plt.show()"
   ]
  },
  {
   "cell_type": "markdown",
   "metadata": {},
   "source": [
    "From the above the transformation was somewhat successful for data without zeros"
   ]
  },
  {
   "cell_type": "code",
   "execution_count": 55,
   "metadata": {},
   "outputs": [
    {
     "data": {
      "image/png": "[encoded data removed]",
      "text/plain": [
       "<matplotlib.figure.Figure at 0x1f99d3325c0>"
      ]
     },
     "metadata": {},
     "output_type": "display_data"
    }
   ],
   "source": [
    "plt.hist(data['JP_Sales'], bins)\n",
    "plt.title('JP Sales')\n",
    "plt.show()"
   ]
  },
  {
   "cell_type": "code",
   "execution_count": 83,
   "metadata": {},
   "outputs": [
    {
     "data": {
      "image/png": "[encoded data removed]",
      "text/plain": [
       "<matplotlib.figure.Figure at 0x2763a54f908>"
      ]
     },
     "metadata": {},
     "output_type": "display_data"
    }
   ],
   "source": [
    "sns.distplot(np.power(data.JP_Sales.dropna(),1/5))\n",
    "plt.show()"
   ]
  },
  {
   "cell_type": "code",
   "execution_count": 56,
   "metadata": {},
   "outputs": [
    {
     "data": {
      "image/png": "[encoded data removed]",
      "text/plain": [
       "<matplotlib.figure.Figure at 0x1f99d5d44a8>"
      ]
     },
     "metadata": {},
     "output_type": "display_data"
    }
   ],
   "source": [
    "plt.hist(data['Other_Sales'], bins)\n",
    "plt.title('Other Sales')\n",
    "plt.show()"
   ]
  },
  {
   "cell_type": "code",
   "execution_count": 80,
   "metadata": {},
   "outputs": [
    {
     "data": {
      "image/png": "[encoded data removed]",
      "text/plain": [
       "<matplotlib.figure.Figure at 0x2763c279ba8>"
      ]
     },
     "metadata": {},
     "output_type": "display_data"
    }
   ],
   "source": [
    "sns.distplot(np.power(data.Other_Sales.dropna(),1/10))\n",
    "plt.show()"
   ]
  },
  {
   "cell_type": "code",
   "execution_count": 64,
   "metadata": {},
   "outputs": [
    {
     "data": {
      "image/png": "[encoded data removed]",
      "text/plain": [
       "<matplotlib.figure.Figure at 0x1f99d5fc2b0>"
      ]
     },
     "metadata": {},
     "output_type": "display_data"
    }
   ],
   "source": [
    "plt.hist(data['Global_Sales'], bins)\n",
    "plt.title('Global Sales')\n",
    "plt.show()"
   ]
  },
  {
   "cell_type": "code",
   "execution_count": 74,
   "metadata": {},
   "outputs": [
    {
     "data": {
      "image/png": "[encoded data removed]",
      "text/plain": [
       "<matplotlib.figure.Figure at 0x2763c2a0da0>"
      ]
     },
     "metadata": {},
     "output_type": "display_data"
    }
   ],
   "source": [
    "sns.distplot(np.log(data.Global_Sales.dropna()))\n",
    "plt.show()"
   ]
  },
  {
   "cell_type": "code",
   "execution_count": 70,
   "metadata": {},
   "outputs": [
    {
     "data": {
      "image/png": "[encoded data removed]",
      "text/plain": [
       "<matplotlib.figure.Figure at 0x2763a4f4470>"
      ]
     },
     "metadata": {},
     "output_type": "display_data"
    }
   ],
   "source": [
    "sns.distplot(data.Critic_Score.dropna())\n",
    "plt.show()"
   ]
  },
  {
   "cell_type": "code",
   "execution_count": 71,
   "metadata": {},
   "outputs": [
    {
     "data": {
      "image/png": "[encoded data removed]",
      "text/plain": [
       "<matplotlib.figure.Figure at 0x2763a15c860>"
      ]
     },
     "metadata": {},
     "output_type": "display_data"
    }
   ],
   "source": [
    "sns.distplot(np.power(data.Critic_Score.dropna(),2))\n",
    "plt.show()"
   ]
  },
  {
   "cell_type": "raw",
   "metadata": {},
   "source": [
    "Since critic score was negatively skewed we can square to make it symmetric"
   ]
  },
  {
   "cell_type": "code",
   "execution_count": 64,
   "metadata": {},
   "outputs": [
    {
     "data": {
      "image/png": "[encoded data removed]",
      "text/plain": [
       "<matplotlib.figure.Figure at 0x2763c162b70>"
      ]
     },
     "metadata": {},
     "output_type": "display_data"
    }
   ],
   "source": [
    "sns.distplot(data.Critic_Count.dropna())\n",
    "plt.show()"
   ]
  },
  {
   "cell_type": "code",
   "execution_count": 69,
   "metadata": {},
   "outputs": [
    {
     "data": {
      "image/png": "[encoded data removed]",
      "text/plain": [
       "<matplotlib.figure.Figure at 0x2763a4412e8>"
      ]
     },
     "metadata": {},
     "output_type": "display_data"
    }
   ],
   "source": [
    "sns.distplot(np.power(data.Critic_Count.dropna(),1/10))\n",
    "plt.show()"
   ]
  },
  {
   "cell_type": "code",
   "execution_count": 68,
   "metadata": {},
   "outputs": [
    {
     "data": {
      "image/png": "[encoded data removed]",
      "text/plain": [
       "<matplotlib.figure.Figure at 0x2763a17bb38>"
      ]
     },
     "metadata": {},
     "output_type": "display_data"
    }
   ],
   "source": [
    "sns.distplot(np.log(data.Critic_Count.dropna()))\n",
    "plt.show()"
   ]
  },
  {
   "cell_type": "markdown",
   "metadata": {},
   "source": [
    "For crtic count power of 1/10 is more symmetric than log ."
   ]
  },
  {
   "cell_type": "markdown",
   "metadata": {},
   "source": [
    "From the above graphs it is seen that all the sales are right skewed/positive skew.so it is unserstood that it is not normally distributes .So we need to perform some covversion techniques."
   ]
  },
  {
   "cell_type": "markdown",
   "metadata": {},
   "source": [
    "Find the outlier boundaries by the method of 1.5(IQR)"
   ]
  },
  {
   "cell_type": "code",
   "execution_count": 16,
   "metadata": {},
   "outputs": [
    {
     "data": {
      "text/plain": [
       "[7.0, 0.24, 0.11, 0.04, 0.03, 0.41, 19.0, 24.0, 71.0]"
      ]
     },
     "execution_count": 16,
     "metadata": {},
     "output_type": "execute_result"
    }
   ],
   "source": [
    "iqr=(data.quantile(0.75,axis=0)-data.quantile(0.25,axis=0)).tolist()\n",
    "iqr"
   ]
  },
  {
   "cell_type": "markdown",
   "metadata": {},
   "source": [
    "Lower Boundary and  Higher Boundary"
   ]
  },
  {
   "cell_type": "code",
   "execution_count": 21,
   "metadata": {},
   "outputs": [
    {
     "name": "stdout",
     "output_type": "stream",
     "text": [
      "Year_of_Release    1997.000\n",
      "NA_Sales             -0.120\n",
      "EU_Sales             -0.030\n",
      "JP_Sales              0.000\n",
      "Other_Sales          -0.015\n",
      "Global_Sales         -0.105\n",
      "Critic_Score         43.500\n",
      "Critic_Count         -1.500\n",
      "User_Count          -11.000\n",
      "dtype: float64\n"
     ]
    }
   ],
   "source": [
    "lowerboundary=(data.quantile(0.25,axis=0)-(1.5*(data.quantile(0.5,axis=0)-data.quantile(0.25,axis=0))))\n",
    "print(lowerboundary)"
   ]
  },
  {
   "cell_type": "code",
   "execution_count": 22,
   "metadata": {},
   "outputs": [
    {
     "name": "stdout",
     "output_type": "stream",
     "text": [
      "Year_of_Release    2016.000\n",
      "NA_Sales              0.360\n",
      "EU_Sales              0.140\n",
      "JP_Sales              0.040\n",
      "Other_Sales           0.045\n",
      "Global_Sales          0.635\n",
      "Critic_Score         95.500\n",
      "Critic_Count         49.500\n",
      "User_Count          102.000\n",
      "dtype: float64\n"
     ]
    }
   ],
   "source": [
    "higherboundary=(data.quantile(0.75,axis=0)+(1.5*(data.quantile(0.5,axis=0)-data.quantile(0.25,axis=0))))\n",
    "print(higherboundary)"
   ]
  },
  {
   "cell_type": "markdown",
   "metadata": {},
   "source": [
    "To findout how many outliers are there in each column"
   ]
  },
  {
   "cell_type": "code",
   "execution_count": 37,
   "metadata": {},
   "outputs": [
    {
     "name": "stdout",
     "output_type": "stream",
     "text": [
      "[['Year_of_Release', 974], ['NA_Sales', 2868], ['EU_Sales', 3464], ['JP_Sales', 3811], ['Other_Sales', 3452], ['Global_Sales', 3171], ['Critic_Score', 463], ['Critic_Count', 1047], ['User_Count', 1630]]\n"
     ]
    }
   ],
   "source": [
    "higherboundary=higherboundary\n",
    "lowerboundary=lowerboundary\n",
    "le=[]\n",
    "x=[]\n",
    "for i in range (1,len(colname)):\n",
    "    k=0\n",
    "    k=k+data[colname[i]][data[colname[i]]<lowerboundary[i-1]].count()\n",
    "    k=k+data[colname[i]][data[colname[i]]>higherboundary[i-1]].count()\n",
    "    x.append(k)\n",
    "    le.append([colname[i],k])\n",
    "print(le)"
   ]
  },
  {
   "cell_type": "code",
   "execution_count": 50,
   "metadata": {},
   "outputs": [
    {
     "data": {
      "image/png": "[encoded data removed]",
      "text/plain": [
       "<matplotlib.figure.Figure at 0x2763a067be0>"
      ]
     },
     "metadata": {},
     "output_type": "display_data"
    }
   ],
   "source": [
    "plt.figure(figsize=(14,8))\n",
    "y_pos=colname[1:]\n",
    "plt.bar(y_pos,x)\n",
    "plt.ylabel('No of Outliers:')\n",
    "plt.title('Outliers vs ')\n",
    "plt.show()"
   ]
  },
  {
   "cell_type": "markdown",
   "metadata": {},
   "source": [
    "From the above jp_sales has most of teh outliers nearly half of data points lie outside"
   ]
  },
  {
   "cell_type": "code",
   "execution_count": null,
   "metadata": {
    "collapsed": true
   },
   "outputs": [],
   "source": []
  },
  {
   "cell_type": "code",
   "execution_count": null,
   "metadata": {
    "collapsed": true
   },
   "outputs": [],
   "source": []
  }
 ],
 "metadata": {
  "kernelspec": {
   "display_name": "Python 3",
   "language": "python",
   "name": "python3"
  },
  "language_info": {
   "codemirror_mode": {
    "name": "ipython",
    "version": 3
   },
   "file_extension": ".py",
   "mimetype": "text/x-python",
   "name": "python",
   "nbconvert_exporter": "python",
   "pygments_lexer": "ipython3",
   "version": "3.6.3"
  }
 },
 "nbformat": 4,
 "nbformat_minor": 2
}
