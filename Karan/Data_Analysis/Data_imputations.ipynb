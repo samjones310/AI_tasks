{
 "cells": [
  {
   "cell_type": "markdown",
   "metadata": {},
   "source": [
    "Import the required libraries"
   ]
  },
  {
   "cell_type": "code",
   "execution_count": 27,
   "metadata": {
    "collapsed": true
   },
   "outputs": [],
   "source": [
    "import pandas as pd\n",
    "import numpy as np\n",
    "from plotnine import *\n",
    "from plotnine.data import mpg\n"
   ]
  },
  {
   "cell_type": "markdown",
   "metadata": {},
   "source": [
    "Read the data using pd.read_csv and pass header files"
   ]
  },
  {
   "cell_type": "code",
   "execution_count": 2,
   "metadata": {
    "collapsed": true
   },
   "outputs": [],
   "source": [
    "data= pd.read_csv(\"data_csv.csv\",header=None,names=['Number of times pregnant',\n",
    "'Plasma glucose concentration',\n",
    "'Diastolic blood pressure (mm Hg)',\n",
    "'Triceps skinfold thickness (mm)',\n",
    "'2-Hour serum insulin (mu U/ml)',\n",
    "'Body mass index (weight in kg/(height in m)^2)',\n",
    "'Diabetes pedigree function',\n",
    "'Age (years)',\n",
    "'Class variable (0 or 1)'\n",
    "])"
   ]
  },
  {
   "cell_type": "code",
   "execution_count": 3,
   "metadata": {},
   "outputs": [
    {
     "data": {
      "text/html": [
       "<div>\n",
       "<style>\n",
       "    .dataframe thead tr:only-child th {\n",
       "        text-align: right;\n",
       "    }\n",
       "\n",
       "    .dataframe thead th {\n",
       "        text-align: left;\n",
       "    }\n",
       "\n",
       "    .dataframe tbody tr th {\n",
       "        vertical-align: top;\n",
       "    }\n",
       "</style>\n",
       "<table border=\"1\" class=\"dataframe\">\n",
       "  <thead>\n",
       "    <tr style=\"text-align: right;\">\n",
       "      <th></th>\n",
       "      <th>Number of times pregnant</th>\n",
       "      <th>Plasma glucose concentration</th>\n",
       "      <th>Diastolic blood pressure (mm Hg)</th>\n",
       "      <th>Triceps skinfold thickness (mm)</th>\n",
       "      <th>2-Hour serum insulin (mu U/ml)</th>\n",
       "      <th>Body mass index (weight in kg/(height in m)^2)</th>\n",
       "      <th>Diabetes pedigree function</th>\n",
       "      <th>Age (years)</th>\n",
       "      <th>Class variable (0 or 1)</th>\n",
       "    </tr>\n",
       "  </thead>\n",
       "  <tbody>\n",
       "    <tr>\n",
       "      <th>0</th>\n",
       "      <td>6</td>\n",
       "      <td>148</td>\n",
       "      <td>72</td>\n",
       "      <td>35</td>\n",
       "      <td>0</td>\n",
       "      <td>33.6</td>\n",
       "      <td>0.627</td>\n",
       "      <td>50</td>\n",
       "      <td>1</td>\n",
       "    </tr>\n",
       "    <tr>\n",
       "      <th>1</th>\n",
       "      <td>1</td>\n",
       "      <td>85</td>\n",
       "      <td>66</td>\n",
       "      <td>29</td>\n",
       "      <td>0</td>\n",
       "      <td>26.6</td>\n",
       "      <td>0.351</td>\n",
       "      <td>31</td>\n",
       "      <td>0</td>\n",
       "    </tr>\n",
       "    <tr>\n",
       "      <th>2</th>\n",
       "      <td>8</td>\n",
       "      <td>183</td>\n",
       "      <td>64</td>\n",
       "      <td>0</td>\n",
       "      <td>0</td>\n",
       "      <td>23.3</td>\n",
       "      <td>0.672</td>\n",
       "      <td>32</td>\n",
       "      <td>1</td>\n",
       "    </tr>\n",
       "    <tr>\n",
       "      <th>3</th>\n",
       "      <td>1</td>\n",
       "      <td>89</td>\n",
       "      <td>66</td>\n",
       "      <td>23</td>\n",
       "      <td>94</td>\n",
       "      <td>28.1</td>\n",
       "      <td>0.167</td>\n",
       "      <td>21</td>\n",
       "      <td>0</td>\n",
       "    </tr>\n",
       "    <tr>\n",
       "      <th>4</th>\n",
       "      <td>0</td>\n",
       "      <td>137</td>\n",
       "      <td>40</td>\n",
       "      <td>35</td>\n",
       "      <td>168</td>\n",
       "      <td>43.1</td>\n",
       "      <td>2.288</td>\n",
       "      <td>33</td>\n",
       "      <td>1</td>\n",
       "    </tr>\n",
       "  </tbody>\n",
       "</table>\n",
       "</div>"
      ],
      "text/plain": [
       "   Number of times pregnant  Plasma glucose concentration  \\\n",
       "0                         6                           148   \n",
       "1                         1                            85   \n",
       "2                         8                           183   \n",
       "3                         1                            89   \n",
       "4                         0                           137   \n",
       "\n",
       "   Diastolic blood pressure (mm Hg)  Triceps skinfold thickness (mm)  \\\n",
       "0                                72                               35   \n",
       "1                                66                               29   \n",
       "2                                64                                0   \n",
       "3                                66                               23   \n",
       "4                                40                               35   \n",
       "\n",
       "   2-Hour serum insulin (mu U/ml)  \\\n",
       "0                               0   \n",
       "1                               0   \n",
       "2                               0   \n",
       "3                              94   \n",
       "4                             168   \n",
       "\n",
       "   Body mass index (weight in kg/(height in m)^2)  Diabetes pedigree function  \\\n",
       "0                                            33.6                       0.627   \n",
       "1                                            26.6                       0.351   \n",
       "2                                            23.3                       0.672   \n",
       "3                                            28.1                       0.167   \n",
       "4                                            43.1                       2.288   \n",
       "\n",
       "   Age (years)  Class variable (0 or 1)  \n",
       "0           50                        1  \n",
       "1           31                        0  \n",
       "2           32                        1  \n",
       "3           21                        0  \n",
       "4           33                        1  "
      ]
     },
     "execution_count": 3,
     "metadata": {},
     "output_type": "execute_result"
    }
   ],
   "source": [
    "data.head()"
   ]
  },
  {
   "cell_type": "markdown",
   "metadata": {},
   "source": [
    "Check for any null values in the data"
   ]
  },
  {
   "cell_type": "code",
   "execution_count": 4,
   "metadata": {},
   "outputs": [
    {
     "data": {
      "text/plain": [
       "Number of times pregnant                          0\n",
       "Plasma glucose concentration                      0\n",
       "Diastolic blood pressure (mm Hg)                  0\n",
       "Triceps skinfold thickness (mm)                   0\n",
       "2-Hour serum insulin (mu U/ml)                    0\n",
       "Body mass index (weight in kg/(height in m)^2)    0\n",
       "Diabetes pedigree function                        0\n",
       "Age (years)                                       0\n",
       "Class variable (0 or 1)                           0\n",
       "dtype: int64"
      ]
     },
     "execution_count": 4,
     "metadata": {},
     "output_type": "execute_result"
    }
   ],
   "source": [
    "data.isnull().sum()"
   ]
  },
  {
   "cell_type": "raw",
   "metadata": {},
   "source": [
    "The data is clean.So no need to impute /remove the null values."
   ]
  },
  {
   "cell_type": "markdown",
   "metadata": {},
   "source": [
    "Calculate the mean for every column."
   ]
  },
  {
   "cell_type": "code",
   "execution_count": 5,
   "metadata": {},
   "outputs": [
    {
     "data": {
      "text/plain": [
       "Number of times pregnant                            3.845052\n",
       "Plasma glucose concentration                      120.894531\n",
       "Diastolic blood pressure (mm Hg)                   69.105469\n",
       "Triceps skinfold thickness (mm)                    20.536458\n",
       "2-Hour serum insulin (mu U/ml)                     79.799479\n",
       "Body mass index (weight in kg/(height in m)^2)     31.992578\n",
       "Diabetes pedigree function                          0.471876\n",
       "Age (years)                                        33.240885\n",
       "Class variable (0 or 1)                             0.348958\n",
       "dtype: float64"
      ]
     },
     "execution_count": 5,
     "metadata": {},
     "output_type": "execute_result"
    }
   ],
   "source": [
    "data.mean()"
   ]
  },
  {
   "cell_type": "markdown",
   "metadata": {},
   "source": [
    "Function to get mean of columns in the data and display the result as table"
   ]
  },
  {
   "cell_type": "code",
   "execution_count": 6,
   "metadata": {},
   "outputs": [
    {
     "name": "stdout",
     "output_type": "stream",
     "text": [
      "+------------------------------------------------+--------------------+\n",
      "|                      Name                      |        Mean        |\n",
      "+------------------------------------------------+--------------------+\n",
      "|            Number of times pregnant            | 3.8450520833333335 |\n",
      "|          Plasma glucose concentration          |    120.89453125    |\n",
      "|        Diastolic blood pressure (mm Hg)        |    69.10546875     |\n",
      "|        Triceps skinfold thickness (mm)         | 20.536458333333332 |\n",
      "|         2-Hour serum insulin (mu U/ml)         | 79.79947916666667  |\n",
      "| Body mass index (weight in kg/(height in m)^2) | 31.992578124999977 |\n",
      "|           Diabetes pedigree function           | 0.4718763020833327 |\n",
      "|                  Age (years)                   | 33.240885416666664 |\n",
      "|            Class variable (0 or 1)             | 0.3489583333333333 |\n",
      "+------------------------------------------------+--------------------+\n"
     ]
    }
   ],
   "source": [
    "def calc_mean(data_cal):\n",
    "    from prettytable import PrettyTable\n",
    "    t = PrettyTable(['Name', 'Mean'])\n",
    "    datatype=['int16','int32','int64','float16','float32','float64']\n",
    "    data_cal.dropna()\n",
    "    data_cal= data_cal.select_dtypes(include=datatype)\n",
    "    res=[]\n",
    "    for col in data_cal:\n",
    "        li=data_cal[col].tolist()\n",
    "        t.add_row([col,sum(li)/len(li)])\n",
    "        res.append([col,sum(li)/len(li)])\n",
    "    print(t)\n",
    "    return res\n",
    "mean_data=calc_mean(data)"
   ]
  },
  {
   "cell_type": "markdown",
   "metadata": {},
   "source": [
    "Calculate the standard deviation for every column in the dataset."
   ]
  },
  {
   "cell_type": "code",
   "execution_count": 7,
   "metadata": {},
   "outputs": [
    {
     "data": {
      "text/plain": [
       "Number of times pregnant                            3.369578\n",
       "Plasma glucose concentration                       31.972618\n",
       "Diastolic blood pressure (mm Hg)                   19.355807\n",
       "Triceps skinfold thickness (mm)                    15.952218\n",
       "2-Hour serum insulin (mu U/ml)                    115.244002\n",
       "Body mass index (weight in kg/(height in m)^2)      7.884160\n",
       "Diabetes pedigree function                          0.331329\n",
       "Age (years)                                        11.760232\n",
       "Class variable (0 or 1)                             0.476951\n",
       "dtype: float64"
      ]
     },
     "execution_count": 7,
     "metadata": {},
     "output_type": "execute_result"
    }
   ],
   "source": [
    "data.std()"
   ]
  },
  {
   "cell_type": "code",
   "execution_count": 10,
   "metadata": {},
   "outputs": [
    {
     "name": "stdout",
     "output_type": "stream",
     "text": [
      "+------------------------------------------------+--------------------+\n",
      "|                      Name                      | Standard Deviation |\n",
      "+------------------------------------------------+--------------------+\n",
      "|            Number of times pregnant            |   3.36738361241    |\n",
      "|          Plasma glucose concentration          |   31.9517959082    |\n",
      "|        Diastolic blood pressure (mm Hg)        |    19.343201629    |\n",
      "|        Triceps skinfold thickness (mm)         |   15.9418286265    |\n",
      "|         2-Hour serum insulin (mu U/ml)         |   115.168949265    |\n",
      "| Body mass index (weight in kg/(height in m)^2) |   7.87902573154    |\n",
      "|           Diabetes pedigree function           |   0.331112816029   |\n",
      "|                  Age (years)                   |    11.752572646    |\n",
      "|            Class variable (0 or 1)             |   0.476640760878   |\n",
      "+------------------------------------------------+--------------------+\n"
     ]
    }
   ],
   "source": [
    "def calc_std(data_cal):\n",
    "    from prettytable import PrettyTable\n",
    "    t = PrettyTable(['Name', 'Standard Deviation'])\n",
    "    datatype=['int16','int32','int64','float16','float32','float64']\n",
    "    data_cal.dropna()\n",
    "    data_cal= data_cal.select_dtypes(include=datatype)\n",
    "    res=[]\n",
    "    for col in data_cal:\n",
    "        li=data_cal[col].tolist()\n",
    "        me=sum(li)/len(li)\n",
    "        sd=[(x-me)**2 for x in li]\n",
    "        std=np.sqrt(sum(sd)/len(li))\n",
    "        t.add_row([col,std])\n",
    "        res.append([col,std])\n",
    "    print(t)\n",
    "    return res\n",
    "std_data=calc_std(data)"
   ]
  },
  {
   "cell_type": "markdown",
   "metadata": {},
   "source": [
    "Calculate minimum and maximum for every column "
   ]
  },
  {
   "cell_type": "code",
   "execution_count": 9,
   "metadata": {},
   "outputs": [
    {
     "name": "stdout",
     "output_type": "stream",
     "text": [
      "Minimum:\n",
      " Number of times pregnant                           0.000\n",
      "Plasma glucose concentration                       0.000\n",
      "Diastolic blood pressure (mm Hg)                   0.000\n",
      "Triceps skinfold thickness (mm)                    0.000\n",
      "2-Hour serum insulin (mu U/ml)                     0.000\n",
      "Body mass index (weight in kg/(height in m)^2)     0.000\n",
      "Diabetes pedigree function                         0.078\n",
      "Age (years)                                       21.000\n",
      "Class variable (0 or 1)                            0.000\n",
      "dtype: float64\n",
      "Maximum:\n",
      " Number of times pregnant                           17.00\n",
      "Plasma glucose concentration                      199.00\n",
      "Diastolic blood pressure (mm Hg)                  122.00\n",
      "Triceps skinfold thickness (mm)                    99.00\n",
      "2-Hour serum insulin (mu U/ml)                    846.00\n",
      "Body mass index (weight in kg/(height in m)^2)     67.10\n",
      "Diabetes pedigree function                          2.42\n",
      "Age (years)                                        81.00\n",
      "Class variable (0 or 1)                             1.00\n",
      "dtype: float64\n"
     ]
    }
   ],
   "source": [
    "print(\"Minimum:\\n\",data.min(axis=0))\n",
    "print(\"Maximum:\\n\",data.max(axis=0))"
   ]
  },
  {
   "cell_type": "code",
   "execution_count": 11,
   "metadata": {},
   "outputs": [
    {
     "name": "stdout",
     "output_type": "stream",
     "text": [
      "+------------------------------------------------+-------+------+\n",
      "|                      Name                      |  Min  | Max  |\n",
      "+------------------------------------------------+-------+------+\n",
      "|            Number of times pregnant            |   0   |  17  |\n",
      "|          Plasma glucose concentration          |   0   | 199  |\n",
      "|        Diastolic blood pressure (mm Hg)        |   0   | 122  |\n",
      "|        Triceps skinfold thickness (mm)         |   0   |  99  |\n",
      "|         2-Hour serum insulin (mu U/ml)         |   0   | 846  |\n",
      "| Body mass index (weight in kg/(height in m)^2) |  0.0  | 67.1 |\n",
      "|           Diabetes pedigree function           | 0.078 | 2.42 |\n",
      "|                  Age (years)                   |   21  |  81  |\n",
      "|            Class variable (0 or 1)             |   0   |  1   |\n",
      "+------------------------------------------------+-------+------+\n"
     ]
    }
   ],
   "source": [
    "def calc_max_min(data_cal):\n",
    "    from prettytable import PrettyTable\n",
    "    t = PrettyTable(['Name', 'Min','Max'])\n",
    "    datatype=['int16','int32','int64','float16','float32','float64']\n",
    "    data_cal.dropna()\n",
    "    data_cal= data_cal.select_dtypes(include=datatype)\n",
    "    res=[]\n",
    "    for col in data_cal:\n",
    "        li=data_cal[col].tolist()\n",
    "        ma=max(li)\n",
    "        mi=min(li)\n",
    "        t.add_row([col,mi,ma])\n",
    "        res.append([col,mi,ma])\n",
    "    print(t)\n",
    "    return res\n",
    "min_max=calc_max_min(data)"
   ]
  },
  {
   "cell_type": "markdown",
   "metadata": {},
   "source": [
    "Function to create 0.25 ,0.5,0.75 percentile for every columns"
   ]
  },
  {
   "cell_type": "code",
   "execution_count": 12,
   "metadata": {},
   "outputs": [
    {
     "name": "stdout",
     "output_type": "stream",
     "text": [
      "0.25-Percentile is  [1.0, 99.0, 62.0, 0.0, 0.0, 27.3, 0.24375, 24.0, 0.0]\n",
      "0.50-Percentile is  [3.0, 117.0, 72.0, 23.0, 30.5, 32.0, 0.3725, 29.0, 0.0]\n",
      "0.75-Percentile is  [6.0, 140.25, 80.0, 32.0, 127.25, 36.6, 0.62625, 41.0, 1.0]\n"
     ]
    }
   ],
   "source": [
    "print(\"0.25-Percentile is \",data.quantile(0.25,axis=0) .tolist())\n",
    "print(\"0.50-Percentile is \",data.quantile(0.5,axis=0) .tolist())\n",
    "print(\"0.75-Percentile is \",data.quantile(0.75,axis=0) .tolist())"
   ]
  },
  {
   "cell_type": "markdown",
   "metadata": {
    "collapsed": true
   },
   "source": [
    "Function Defined to calculate the percentile"
   ]
  },
  {
   "cell_type": "code",
   "execution_count": 25,
   "metadata": {},
   "outputs": [
    {
     "name": "stdout",
     "output_type": "stream",
     "text": [
      "Enter Percentile You Want Calculate:0.25\n",
      "+------------------------------------------------+------------+\n",
      "|                      Name                      | Percentile |\n",
      "+------------------------------------------------+------------+\n",
      "|            Number of times pregnant            |     1      |\n",
      "|          Plasma glucose concentration          |     99     |\n",
      "|        Diastolic blood pressure (mm Hg)        |     62     |\n",
      "|        Triceps skinfold thickness (mm)         |     0      |\n",
      "|         2-Hour serum insulin (mu U/ml)         |     0      |\n",
      "| Body mass index (weight in kg/(height in m)^2) |    27.3    |\n",
      "|           Diabetes pedigree function           |   0.244    |\n",
      "|                  Age (years)                   |     24     |\n",
      "|            Class variable (0 or 1)             |     0      |\n",
      "+------------------------------------------------+------------+\n"
     ]
    }
   ],
   "source": [
    "def calc_per(data_cal,per):\n",
    "    per=float(per)\n",
    "    from prettytable import PrettyTable\n",
    "    t = PrettyTable(['Name', 'Percentile'])\n",
    "    datatype=['int16','int32','int64','float16','float32','float64']\n",
    "    data_cal.dropna()\n",
    "    data_cal= data_cal.select_dtypes(include=datatype)\n",
    "    res=[]\n",
    "    for col in data_cal:\n",
    "        li=data_cal[col].tolist()\n",
    "        li.sort()\n",
    "        index=int(len(li)*per)\n",
    "        val=li[index]\n",
    "        t.add_row([col,val])\n",
    "        res.append([col,val])\n",
    "    print(t)\n",
    "    return res\n",
    "per=input('Enter Percentile You Want Calculate:')\n",
    "per_calc=calc_per(data,per)"
   ]
  },
  {
   "cell_type": "markdown",
   "metadata": {},
   "source": [
    "Analyse for a single value in every column."
   ]
  },
  {
   "cell_type": "code",
   "execution_count": 16,
   "metadata": {},
   "outputs": [
    {
     "name": "stdout",
     "output_type": "stream",
     "text": [
      "Enter Value You Want to analyze:0\n",
      "+------------------------------------------------+------------+\n",
      "|                      Name                      | Percentile |\n",
      "+------------------------------------------------+------------+\n",
      "|            Number of times pregnant            |    111     |\n",
      "|          Plasma glucose concentration          |     5      |\n",
      "|        Diastolic blood pressure (mm Hg)        |     35     |\n",
      "|        Triceps skinfold thickness (mm)         |    227     |\n",
      "|         2-Hour serum insulin (mu U/ml)         |    374     |\n",
      "| Body mass index (weight in kg/(height in m)^2) |     11     |\n",
      "|           Diabetes pedigree function           |     0      |\n",
      "|                  Age (years)                   |     0      |\n",
      "|            Class variable (0 or 1)             |    500     |\n",
      "+------------------------------------------------+------------+\n"
     ]
    }
   ],
   "source": [
    "def analyze_values(data_cal,value):\n",
    "    from prettytable import PrettyTable\n",
    "    t = PrettyTable(['Name', 'Percentile'])\n",
    "    datatype=['int16','int32','int64','float16','float32','float64']\n",
    "    data_cal.dropna()\n",
    "    data_cal= data_cal.select_dtypes(include=datatype)\n",
    "    res=[]\n",
    "    for col in data_cal:\n",
    "        li=data_cal[col].tolist()\n",
    "        val=li.count(value)\n",
    "        t.add_row([col,val])\n",
    "        res.append([col,val])\n",
    "    print(t)\n",
    "    return res\n",
    "value=input('Enter Value You Want to analyze:')\n",
    "per_calc=analyze_values(data,int(value))"
   ]
  },
  {
   "cell_type": "markdown",
   "metadata": {},
   "source": [
    "Replace 0 with NaN values"
   ]
  },
  {
   "cell_type": "code",
   "execution_count": 17,
   "metadata": {},
   "outputs": [
    {
     "data": {
      "text/html": [
       "<div>\n",
       "<style>\n",
       "    .dataframe thead tr:only-child th {\n",
       "        text-align: right;\n",
       "    }\n",
       "\n",
       "    .dataframe thead th {\n",
       "        text-align: left;\n",
       "    }\n",
       "\n",
       "    .dataframe tbody tr th {\n",
       "        vertical-align: top;\n",
       "    }\n",
       "</style>\n",
       "<table border=\"1\" class=\"dataframe\">\n",
       "  <thead>\n",
       "    <tr style=\"text-align: right;\">\n",
       "      <th></th>\n",
       "      <th>Number of times pregnant</th>\n",
       "      <th>Plasma glucose concentration</th>\n",
       "      <th>Diastolic blood pressure (mm Hg)</th>\n",
       "      <th>Triceps skinfold thickness (mm)</th>\n",
       "      <th>2-Hour serum insulin (mu U/ml)</th>\n",
       "      <th>Body mass index (weight in kg/(height in m)^2)</th>\n",
       "      <th>Diabetes pedigree function</th>\n",
       "      <th>Age (years)</th>\n",
       "      <th>Class variable (0 or 1)</th>\n",
       "    </tr>\n",
       "  </thead>\n",
       "  <tbody>\n",
       "    <tr>\n",
       "      <th>0</th>\n",
       "      <td>6.0</td>\n",
       "      <td>148.0</td>\n",
       "      <td>72.0</td>\n",
       "      <td>35.0</td>\n",
       "      <td>NaN</td>\n",
       "      <td>33.6</td>\n",
       "      <td>0.627</td>\n",
       "      <td>50.0</td>\n",
       "      <td>1.0</td>\n",
       "    </tr>\n",
       "    <tr>\n",
       "      <th>1</th>\n",
       "      <td>1.0</td>\n",
       "      <td>85.0</td>\n",
       "      <td>66.0</td>\n",
       "      <td>29.0</td>\n",
       "      <td>NaN</td>\n",
       "      <td>26.6</td>\n",
       "      <td>0.351</td>\n",
       "      <td>31.0</td>\n",
       "      <td>NaN</td>\n",
       "    </tr>\n",
       "    <tr>\n",
       "      <th>2</th>\n",
       "      <td>8.0</td>\n",
       "      <td>183.0</td>\n",
       "      <td>64.0</td>\n",
       "      <td>NaN</td>\n",
       "      <td>NaN</td>\n",
       "      <td>23.3</td>\n",
       "      <td>0.672</td>\n",
       "      <td>32.0</td>\n",
       "      <td>1.0</td>\n",
       "    </tr>\n",
       "    <tr>\n",
       "      <th>3</th>\n",
       "      <td>1.0</td>\n",
       "      <td>89.0</td>\n",
       "      <td>66.0</td>\n",
       "      <td>23.0</td>\n",
       "      <td>94.0</td>\n",
       "      <td>28.1</td>\n",
       "      <td>0.167</td>\n",
       "      <td>21.0</td>\n",
       "      <td>NaN</td>\n",
       "    </tr>\n",
       "    <tr>\n",
       "      <th>4</th>\n",
       "      <td>NaN</td>\n",
       "      <td>137.0</td>\n",
       "      <td>40.0</td>\n",
       "      <td>35.0</td>\n",
       "      <td>168.0</td>\n",
       "      <td>43.1</td>\n",
       "      <td>2.288</td>\n",
       "      <td>33.0</td>\n",
       "      <td>1.0</td>\n",
       "    </tr>\n",
       "  </tbody>\n",
       "</table>\n",
       "</div>"
      ],
      "text/plain": [
       "   Number of times pregnant  Plasma glucose concentration  \\\n",
       "0                       6.0                         148.0   \n",
       "1                       1.0                          85.0   \n",
       "2                       8.0                         183.0   \n",
       "3                       1.0                          89.0   \n",
       "4                       NaN                         137.0   \n",
       "\n",
       "   Diastolic blood pressure (mm Hg)  Triceps skinfold thickness (mm)  \\\n",
       "0                              72.0                             35.0   \n",
       "1                              66.0                             29.0   \n",
       "2                              64.0                              NaN   \n",
       "3                              66.0                             23.0   \n",
       "4                              40.0                             35.0   \n",
       "\n",
       "   2-Hour serum insulin (mu U/ml)  \\\n",
       "0                             NaN   \n",
       "1                             NaN   \n",
       "2                             NaN   \n",
       "3                            94.0   \n",
       "4                           168.0   \n",
       "\n",
       "   Body mass index (weight in kg/(height in m)^2)  Diabetes pedigree function  \\\n",
       "0                                            33.6                       0.627   \n",
       "1                                            26.6                       0.351   \n",
       "2                                            23.3                       0.672   \n",
       "3                                            28.1                       0.167   \n",
       "4                                            43.1                       2.288   \n",
       "\n",
       "   Age (years)  Class variable (0 or 1)  \n",
       "0         50.0                      1.0  \n",
       "1         31.0                      NaN  \n",
       "2         32.0                      1.0  \n",
       "3         21.0                      NaN  \n",
       "4         33.0                      1.0  "
      ]
     },
     "execution_count": 17,
     "metadata": {},
     "output_type": "execute_result"
    }
   ],
   "source": [
    "data_nan = data.replace({0:np.nan})\n",
    "data_nan.head()"
   ]
  },
  {
   "cell_type": "markdown",
   "metadata": {},
   "source": [
    "Find the mode for every column"
   ]
  },
  {
   "cell_type": "code",
   "execution_count": 18,
   "metadata": {},
   "outputs": [
    {
     "name": "stdout",
     "output_type": "stream",
     "text": [
      "[1.0, 99.0, 70.0, 32.0, 105.0, 32.0, 0.254, 22.0, 1.0]\n"
     ]
    }
   ],
   "source": [
    "l=data_nan.mode(axis=0).values.tolist()\n",
    "l=l[0]\n",
    "print(l)"
   ]
  },
  {
   "cell_type": "markdown",
   "metadata": {},
   "source": [
    "Replace the NA values with mode value of that column"
   ]
  },
  {
   "cell_type": "code",
   "execution_count": 19,
   "metadata": {},
   "outputs": [
    {
     "data": {
      "text/html": [
       "<div>\n",
       "<style>\n",
       "    .dataframe thead tr:only-child th {\n",
       "        text-align: right;\n",
       "    }\n",
       "\n",
       "    .dataframe thead th {\n",
       "        text-align: left;\n",
       "    }\n",
       "\n",
       "    .dataframe tbody tr th {\n",
       "        vertical-align: top;\n",
       "    }\n",
       "</style>\n",
       "<table border=\"1\" class=\"dataframe\">\n",
       "  <thead>\n",
       "    <tr style=\"text-align: right;\">\n",
       "      <th></th>\n",
       "      <th>Number of times pregnant</th>\n",
       "      <th>Plasma glucose concentration</th>\n",
       "      <th>Diastolic blood pressure (mm Hg)</th>\n",
       "      <th>Triceps skinfold thickness (mm)</th>\n",
       "      <th>2-Hour serum insulin (mu U/ml)</th>\n",
       "      <th>Body mass index (weight in kg/(height in m)^2)</th>\n",
       "      <th>Diabetes pedigree function</th>\n",
       "      <th>Age (years)</th>\n",
       "      <th>Class variable (0 or 1)</th>\n",
       "    </tr>\n",
       "  </thead>\n",
       "  <tbody>\n",
       "    <tr>\n",
       "      <th>0</th>\n",
       "      <td>6.0</td>\n",
       "      <td>148.0</td>\n",
       "      <td>72.0</td>\n",
       "      <td>35.0</td>\n",
       "      <td>105.0</td>\n",
       "      <td>33.6</td>\n",
       "      <td>0.627</td>\n",
       "      <td>50.0</td>\n",
       "      <td>1.0</td>\n",
       "    </tr>\n",
       "    <tr>\n",
       "      <th>1</th>\n",
       "      <td>1.0</td>\n",
       "      <td>85.0</td>\n",
       "      <td>66.0</td>\n",
       "      <td>29.0</td>\n",
       "      <td>105.0</td>\n",
       "      <td>26.6</td>\n",
       "      <td>0.351</td>\n",
       "      <td>31.0</td>\n",
       "      <td>1.0</td>\n",
       "    </tr>\n",
       "    <tr>\n",
       "      <th>2</th>\n",
       "      <td>8.0</td>\n",
       "      <td>183.0</td>\n",
       "      <td>64.0</td>\n",
       "      <td>32.0</td>\n",
       "      <td>105.0</td>\n",
       "      <td>23.3</td>\n",
       "      <td>0.672</td>\n",
       "      <td>32.0</td>\n",
       "      <td>1.0</td>\n",
       "    </tr>\n",
       "    <tr>\n",
       "      <th>3</th>\n",
       "      <td>1.0</td>\n",
       "      <td>89.0</td>\n",
       "      <td>66.0</td>\n",
       "      <td>23.0</td>\n",
       "      <td>94.0</td>\n",
       "      <td>28.1</td>\n",
       "      <td>0.167</td>\n",
       "      <td>21.0</td>\n",
       "      <td>1.0</td>\n",
       "    </tr>\n",
       "    <tr>\n",
       "      <th>4</th>\n",
       "      <td>1.0</td>\n",
       "      <td>137.0</td>\n",
       "      <td>40.0</td>\n",
       "      <td>35.0</td>\n",
       "      <td>168.0</td>\n",
       "      <td>43.1</td>\n",
       "      <td>2.288</td>\n",
       "      <td>33.0</td>\n",
       "      <td>1.0</td>\n",
       "    </tr>\n",
       "  </tbody>\n",
       "</table>\n",
       "</div>"
      ],
      "text/plain": [
       "   Number of times pregnant  Plasma glucose concentration  \\\n",
       "0                       6.0                         148.0   \n",
       "1                       1.0                          85.0   \n",
       "2                       8.0                         183.0   \n",
       "3                       1.0                          89.0   \n",
       "4                       1.0                         137.0   \n",
       "\n",
       "   Diastolic blood pressure (mm Hg)  Triceps skinfold thickness (mm)  \\\n",
       "0                              72.0                             35.0   \n",
       "1                              66.0                             29.0   \n",
       "2                              64.0                             32.0   \n",
       "3                              66.0                             23.0   \n",
       "4                              40.0                             35.0   \n",
       "\n",
       "   2-Hour serum insulin (mu U/ml)  \\\n",
       "0                           105.0   \n",
       "1                           105.0   \n",
       "2                           105.0   \n",
       "3                            94.0   \n",
       "4                           168.0   \n",
       "\n",
       "   Body mass index (weight in kg/(height in m)^2)  Diabetes pedigree function  \\\n",
       "0                                            33.6                       0.627   \n",
       "1                                            26.6                       0.351   \n",
       "2                                            23.3                       0.672   \n",
       "3                                            28.1                       0.167   \n",
       "4                                            43.1                       2.288   \n",
       "\n",
       "   Age (years)  Class variable (0 or 1)  \n",
       "0         50.0                      1.0  \n",
       "1         31.0                      1.0  \n",
       "2         32.0                      1.0  \n",
       "3         21.0                      1.0  \n",
       "4         33.0                      1.0  "
      ]
     },
     "execution_count": 19,
     "metadata": {},
     "output_type": "execute_result"
    }
   ],
   "source": [
    "data_mode_replace=pd.DataFrame()\n",
    "def mode_replace(data_cal):\n",
    "    datatype=['int16','int32','int64','float16','float32','float64']\n",
    "    data_cal= data_cal.select_dtypes(include=datatype)\n",
    "    i=0\n",
    "    for col in data_cal:\n",
    "        data_mode_replace[col]=data_cal[col].fillna(l[i])\n",
    "        i=i+1\n",
    "mode_replace(data_nan)\n",
    "data_mode_replace.head()"
   ]
  },
  {
   "cell_type": "markdown",
   "metadata": {},
   "source": [
    "Replace the NaN values with the mdeian values of the columns"
   ]
  },
  {
   "cell_type": "code",
   "execution_count": 20,
   "metadata": {},
   "outputs": [
    {
     "data": {
      "text/html": [
       "<div>\n",
       "<style>\n",
       "    .dataframe thead tr:only-child th {\n",
       "        text-align: right;\n",
       "    }\n",
       "\n",
       "    .dataframe thead th {\n",
       "        text-align: left;\n",
       "    }\n",
       "\n",
       "    .dataframe tbody tr th {\n",
       "        vertical-align: top;\n",
       "    }\n",
       "</style>\n",
       "<table border=\"1\" class=\"dataframe\">\n",
       "  <thead>\n",
       "    <tr style=\"text-align: right;\">\n",
       "      <th></th>\n",
       "      <th>Number of times pregnant</th>\n",
       "      <th>Plasma glucose concentration</th>\n",
       "      <th>Diastolic blood pressure (mm Hg)</th>\n",
       "      <th>Triceps skinfold thickness (mm)</th>\n",
       "      <th>2-Hour serum insulin (mu U/ml)</th>\n",
       "      <th>Body mass index (weight in kg/(height in m)^2)</th>\n",
       "      <th>Diabetes pedigree function</th>\n",
       "      <th>Age (years)</th>\n",
       "      <th>Class variable (0 or 1)</th>\n",
       "    </tr>\n",
       "  </thead>\n",
       "  <tbody>\n",
       "    <tr>\n",
       "      <th>0</th>\n",
       "      <td>6.0</td>\n",
       "      <td>148.0</td>\n",
       "      <td>72.0</td>\n",
       "      <td>35.0</td>\n",
       "      <td>125.0</td>\n",
       "      <td>33.6</td>\n",
       "      <td>0.627</td>\n",
       "      <td>50.0</td>\n",
       "      <td>1.0</td>\n",
       "    </tr>\n",
       "    <tr>\n",
       "      <th>1</th>\n",
       "      <td>1.0</td>\n",
       "      <td>85.0</td>\n",
       "      <td>66.0</td>\n",
       "      <td>29.0</td>\n",
       "      <td>125.0</td>\n",
       "      <td>26.6</td>\n",
       "      <td>0.351</td>\n",
       "      <td>31.0</td>\n",
       "      <td>1.0</td>\n",
       "    </tr>\n",
       "    <tr>\n",
       "      <th>2</th>\n",
       "      <td>8.0</td>\n",
       "      <td>183.0</td>\n",
       "      <td>64.0</td>\n",
       "      <td>29.0</td>\n",
       "      <td>125.0</td>\n",
       "      <td>23.3</td>\n",
       "      <td>0.672</td>\n",
       "      <td>32.0</td>\n",
       "      <td>1.0</td>\n",
       "    </tr>\n",
       "    <tr>\n",
       "      <th>3</th>\n",
       "      <td>1.0</td>\n",
       "      <td>89.0</td>\n",
       "      <td>66.0</td>\n",
       "      <td>23.0</td>\n",
       "      <td>94.0</td>\n",
       "      <td>28.1</td>\n",
       "      <td>0.167</td>\n",
       "      <td>21.0</td>\n",
       "      <td>1.0</td>\n",
       "    </tr>\n",
       "    <tr>\n",
       "      <th>4</th>\n",
       "      <td>4.0</td>\n",
       "      <td>137.0</td>\n",
       "      <td>40.0</td>\n",
       "      <td>35.0</td>\n",
       "      <td>168.0</td>\n",
       "      <td>43.1</td>\n",
       "      <td>2.288</td>\n",
       "      <td>33.0</td>\n",
       "      <td>1.0</td>\n",
       "    </tr>\n",
       "  </tbody>\n",
       "</table>\n",
       "</div>"
      ],
      "text/plain": [
       "   Number of times pregnant  Plasma glucose concentration  \\\n",
       "0                       6.0                         148.0   \n",
       "1                       1.0                          85.0   \n",
       "2                       8.0                         183.0   \n",
       "3                       1.0                          89.0   \n",
       "4                       4.0                         137.0   \n",
       "\n",
       "   Diastolic blood pressure (mm Hg)  Triceps skinfold thickness (mm)  \\\n",
       "0                              72.0                             35.0   \n",
       "1                              66.0                             29.0   \n",
       "2                              64.0                             29.0   \n",
       "3                              66.0                             23.0   \n",
       "4                              40.0                             35.0   \n",
       "\n",
       "   2-Hour serum insulin (mu U/ml)  \\\n",
       "0                           125.0   \n",
       "1                           125.0   \n",
       "2                           125.0   \n",
       "3                            94.0   \n",
       "4                           168.0   \n",
       "\n",
       "   Body mass index (weight in kg/(height in m)^2)  Diabetes pedigree function  \\\n",
       "0                                            33.6                       0.627   \n",
       "1                                            26.6                       0.351   \n",
       "2                                            23.3                       0.672   \n",
       "3                                            28.1                       0.167   \n",
       "4                                            43.1                       2.288   \n",
       "\n",
       "   Age (years)  Class variable (0 or 1)  \n",
       "0         50.0                      1.0  \n",
       "1         31.0                      1.0  \n",
       "2         32.0                      1.0  \n",
       "3         21.0                      1.0  \n",
       "4         33.0                      1.0  "
      ]
     },
     "execution_count": 20,
     "metadata": {},
     "output_type": "execute_result"
    }
   ],
   "source": [
    "data_median_filled=data_nan.fillna(data_nan.median())\n",
    "data_median_filled.head()"
   ]
  },
  {
   "cell_type": "markdown",
   "metadata": {},
   "source": [
    "Replace the NaN values with the mean values"
   ]
  },
  {
   "cell_type": "code",
   "execution_count": 23,
   "metadata": {},
   "outputs": [
    {
     "data": {
      "text/html": [
       "<div>\n",
       "<style>\n",
       "    .dataframe thead tr:only-child th {\n",
       "        text-align: right;\n",
       "    }\n",
       "\n",
       "    .dataframe thead th {\n",
       "        text-align: left;\n",
       "    }\n",
       "\n",
       "    .dataframe tbody tr th {\n",
       "        vertical-align: top;\n",
       "    }\n",
       "</style>\n",
       "<table border=\"1\" class=\"dataframe\">\n",
       "  <thead>\n",
       "    <tr style=\"text-align: right;\">\n",
       "      <th></th>\n",
       "      <th>Number of times pregnant</th>\n",
       "      <th>Plasma glucose concentration</th>\n",
       "      <th>Diastolic blood pressure (mm Hg)</th>\n",
       "      <th>Triceps skinfold thickness (mm)</th>\n",
       "      <th>2-Hour serum insulin (mu U/ml)</th>\n",
       "      <th>Body mass index (weight in kg/(height in m)^2)</th>\n",
       "      <th>Diabetes pedigree function</th>\n",
       "      <th>Age (years)</th>\n",
       "      <th>Class variable (0 or 1)</th>\n",
       "    </tr>\n",
       "  </thead>\n",
       "  <tbody>\n",
       "    <tr>\n",
       "      <th>6</th>\n",
       "      <td>3.0</td>\n",
       "      <td>78.0</td>\n",
       "      <td>50.0</td>\n",
       "      <td>32.0</td>\n",
       "      <td>88.0</td>\n",
       "      <td>31.0</td>\n",
       "      <td>0.248</td>\n",
       "      <td>26.0</td>\n",
       "      <td>1.0</td>\n",
       "    </tr>\n",
       "    <tr>\n",
       "      <th>8</th>\n",
       "      <td>2.0</td>\n",
       "      <td>197.0</td>\n",
       "      <td>70.0</td>\n",
       "      <td>45.0</td>\n",
       "      <td>543.0</td>\n",
       "      <td>30.5</td>\n",
       "      <td>0.158</td>\n",
       "      <td>53.0</td>\n",
       "      <td>1.0</td>\n",
       "    </tr>\n",
       "    <tr>\n",
       "      <th>13</th>\n",
       "      <td>1.0</td>\n",
       "      <td>189.0</td>\n",
       "      <td>60.0</td>\n",
       "      <td>23.0</td>\n",
       "      <td>846.0</td>\n",
       "      <td>30.1</td>\n",
       "      <td>0.398</td>\n",
       "      <td>59.0</td>\n",
       "      <td>1.0</td>\n",
       "    </tr>\n",
       "    <tr>\n",
       "      <th>14</th>\n",
       "      <td>5.0</td>\n",
       "      <td>166.0</td>\n",
       "      <td>72.0</td>\n",
       "      <td>19.0</td>\n",
       "      <td>175.0</td>\n",
       "      <td>25.8</td>\n",
       "      <td>0.587</td>\n",
       "      <td>51.0</td>\n",
       "      <td>1.0</td>\n",
       "    </tr>\n",
       "    <tr>\n",
       "      <th>19</th>\n",
       "      <td>1.0</td>\n",
       "      <td>115.0</td>\n",
       "      <td>70.0</td>\n",
       "      <td>30.0</td>\n",
       "      <td>96.0</td>\n",
       "      <td>34.6</td>\n",
       "      <td>0.529</td>\n",
       "      <td>32.0</td>\n",
       "      <td>1.0</td>\n",
       "    </tr>\n",
       "  </tbody>\n",
       "</table>\n",
       "</div>"
      ],
      "text/plain": [
       "    Number of times pregnant  Plasma glucose concentration  \\\n",
       "6                        3.0                          78.0   \n",
       "8                        2.0                         197.0   \n",
       "13                       1.0                         189.0   \n",
       "14                       5.0                         166.0   \n",
       "19                       1.0                         115.0   \n",
       "\n",
       "    Diastolic blood pressure (mm Hg)  Triceps skinfold thickness (mm)  \\\n",
       "6                               50.0                             32.0   \n",
       "8                               70.0                             45.0   \n",
       "13                              60.0                             23.0   \n",
       "14                              72.0                             19.0   \n",
       "19                              70.0                             30.0   \n",
       "\n",
       "    2-Hour serum insulin (mu U/ml)  \\\n",
       "6                             88.0   \n",
       "8                            543.0   \n",
       "13                           846.0   \n",
       "14                           175.0   \n",
       "19                            96.0   \n",
       "\n",
       "    Body mass index (weight in kg/(height in m)^2)  \\\n",
       "6                                             31.0   \n",
       "8                                             30.5   \n",
       "13                                            30.1   \n",
       "14                                            25.8   \n",
       "19                                            34.6   \n",
       "\n",
       "    Diabetes pedigree function  Age (years)  Class variable (0 or 1)  \n",
       "6                        0.248         26.0                      1.0  \n",
       "8                        0.158         53.0                      1.0  \n",
       "13                       0.398         59.0                      1.0  \n",
       "14                       0.587         51.0                      1.0  \n",
       "19                       0.529         32.0                      1.0  "
      ]
     },
     "execution_count": 23,
     "metadata": {},
     "output_type": "execute_result"
    }
   ],
   "source": [
    "data_mean_filled=data_nan.fillna(data_nan.mean())\n",
    "data_mean_filled.head()"
   ]
  },
  {
   "cell_type": "markdown",
   "metadata": {},
   "source": [
    "Drop the NaN values"
   ]
  },
  {
   "cell_type": "code",
   "execution_count": 22,
   "metadata": {},
   "outputs": [
    {
     "data": {
      "text/html": [
       "<div>\n",
       "<style>\n",
       "    .dataframe thead tr:only-child th {\n",
       "        text-align: right;\n",
       "    }\n",
       "\n",
       "    .dataframe thead th {\n",
       "        text-align: left;\n",
       "    }\n",
       "\n",
       "    .dataframe tbody tr th {\n",
       "        vertical-align: top;\n",
       "    }\n",
       "</style>\n",
       "<table border=\"1\" class=\"dataframe\">\n",
       "  <thead>\n",
       "    <tr style=\"text-align: right;\">\n",
       "      <th></th>\n",
       "      <th>Number of times pregnant</th>\n",
       "      <th>Plasma glucose concentration</th>\n",
       "      <th>Diastolic blood pressure (mm Hg)</th>\n",
       "      <th>Triceps skinfold thickness (mm)</th>\n",
       "      <th>2-Hour serum insulin (mu U/ml)</th>\n",
       "      <th>Body mass index (weight in kg/(height in m)^2)</th>\n",
       "      <th>Diabetes pedigree function</th>\n",
       "      <th>Age (years)</th>\n",
       "      <th>Class variable (0 or 1)</th>\n",
       "    </tr>\n",
       "  </thead>\n",
       "  <tbody>\n",
       "    <tr>\n",
       "      <th>6</th>\n",
       "      <td>3.0</td>\n",
       "      <td>78.0</td>\n",
       "      <td>50.0</td>\n",
       "      <td>32.0</td>\n",
       "      <td>88.0</td>\n",
       "      <td>31.0</td>\n",
       "      <td>0.248</td>\n",
       "      <td>26.0</td>\n",
       "      <td>1.0</td>\n",
       "    </tr>\n",
       "    <tr>\n",
       "      <th>8</th>\n",
       "      <td>2.0</td>\n",
       "      <td>197.0</td>\n",
       "      <td>70.0</td>\n",
       "      <td>45.0</td>\n",
       "      <td>543.0</td>\n",
       "      <td>30.5</td>\n",
       "      <td>0.158</td>\n",
       "      <td>53.0</td>\n",
       "      <td>1.0</td>\n",
       "    </tr>\n",
       "    <tr>\n",
       "      <th>13</th>\n",
       "      <td>1.0</td>\n",
       "      <td>189.0</td>\n",
       "      <td>60.0</td>\n",
       "      <td>23.0</td>\n",
       "      <td>846.0</td>\n",
       "      <td>30.1</td>\n",
       "      <td>0.398</td>\n",
       "      <td>59.0</td>\n",
       "      <td>1.0</td>\n",
       "    </tr>\n",
       "    <tr>\n",
       "      <th>14</th>\n",
       "      <td>5.0</td>\n",
       "      <td>166.0</td>\n",
       "      <td>72.0</td>\n",
       "      <td>19.0</td>\n",
       "      <td>175.0</td>\n",
       "      <td>25.8</td>\n",
       "      <td>0.587</td>\n",
       "      <td>51.0</td>\n",
       "      <td>1.0</td>\n",
       "    </tr>\n",
       "    <tr>\n",
       "      <th>19</th>\n",
       "      <td>1.0</td>\n",
       "      <td>115.0</td>\n",
       "      <td>70.0</td>\n",
       "      <td>30.0</td>\n",
       "      <td>96.0</td>\n",
       "      <td>34.6</td>\n",
       "      <td>0.529</td>\n",
       "      <td>32.0</td>\n",
       "      <td>1.0</td>\n",
       "    </tr>\n",
       "  </tbody>\n",
       "</table>\n",
       "</div>"
      ],
      "text/plain": [
       "    Number of times pregnant  Plasma glucose concentration  \\\n",
       "6                        3.0                          78.0   \n",
       "8                        2.0                         197.0   \n",
       "13                       1.0                         189.0   \n",
       "14                       5.0                         166.0   \n",
       "19                       1.0                         115.0   \n",
       "\n",
       "    Diastolic blood pressure (mm Hg)  Triceps skinfold thickness (mm)  \\\n",
       "6                               50.0                             32.0   \n",
       "8                               70.0                             45.0   \n",
       "13                              60.0                             23.0   \n",
       "14                              72.0                             19.0   \n",
       "19                              70.0                             30.0   \n",
       "\n",
       "    2-Hour serum insulin (mu U/ml)  \\\n",
       "6                             88.0   \n",
       "8                            543.0   \n",
       "13                           846.0   \n",
       "14                           175.0   \n",
       "19                            96.0   \n",
       "\n",
       "    Body mass index (weight in kg/(height in m)^2)  \\\n",
       "6                                             31.0   \n",
       "8                                             30.5   \n",
       "13                                            30.1   \n",
       "14                                            25.8   \n",
       "19                                            34.6   \n",
       "\n",
       "    Diabetes pedigree function  Age (years)  Class variable (0 or 1)  \n",
       "6                        0.248         26.0                      1.0  \n",
       "8                        0.158         53.0                      1.0  \n",
       "13                       0.398         59.0                      1.0  \n",
       "14                       0.587         51.0                      1.0  \n",
       "19                       0.529         32.0                      1.0  "
      ]
     },
     "execution_count": 22,
     "metadata": {},
     "output_type": "execute_result"
    }
   ],
   "source": [
    "data_nan.dropna(inplace = True) \n",
    "data_nan.head()"
   ]
  }
 ],
 "metadata": {
  "kernelspec": {
   "display_name": "Python 3",
   "language": "python",
   "name": "python3"
  },
  "language_info": {
   "codemirror_mode": {
    "name": "ipython",
    "version": 3
   },
   "file_extension": ".py",
   "mimetype": "text/x-python",
   "name": "python",
   "nbconvert_exporter": "python",
   "pygments_lexer": "ipython3",
   "version": "3.6.9"
  }
 },
 "nbformat": 4,
 "nbformat_minor": 2
}
