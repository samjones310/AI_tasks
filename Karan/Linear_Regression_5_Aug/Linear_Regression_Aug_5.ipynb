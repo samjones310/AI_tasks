{
 "cells": [
  {
   "cell_type": "markdown",
   "metadata": {
    "collapsed": true
   },
   "source": [
    "Problem 1: Modify the dataset as per to your findings and comment why are you doing that.\n",
    "After the primary data cleaning use the functions discussed in the session today to find the\n",
    "weights and intercept and compare them with the weights achieved from Scikit learn lr model.<br>\n",
    "Problem 2: Check for model accuracies using RMSE/R2 and comment on the findings."
   ]
  },
  {
   "cell_type": "markdown",
   "metadata": {},
   "source": [
    "Import the required Libraries."
   ]
  },
  {
   "cell_type": "code",
   "execution_count": 1,
   "metadata": {},
   "outputs": [],
   "source": [
    "import numpy as np\n",
    "import pandas as pd\n",
    "import seaborn as sns\n",
    "import matplotlib.pyplot as plt\n",
    "from sklearn.model_selection import train_test_split\n",
    "from sklearn.feature_selection import SelectKBest\n",
    "from sklearn import preprocessing \n",
    "from sklearn.model_selection import GridSearchCV\n",
    "from sklearn import linear_model, metrics \n",
    "import math"
   ]
  },
  {
   "cell_type": "markdown",
   "metadata": {},
   "source": [
    "Read and analyse the structure of data."
   ]
  },
  {
   "cell_type": "code",
   "execution_count": 2,
   "metadata": {},
   "outputs": [],
   "source": [
    "data=pd.read_csv(\"Sales_Price_Linear.csv\")"
   ]
  },
  {
   "cell_type": "code",
   "execution_count": 3,
   "metadata": {},
   "outputs": [
    {
     "data": {
      "text/plain": [
       "(1460, 81)"
      ]
     },
     "execution_count": 3,
     "metadata": {},
     "output_type": "execute_result"
    }
   ],
   "source": [
    "data.shape"
   ]
  },
  {
   "cell_type": "markdown",
   "metadata": {},
   "source": [
    "Drop columns wiht more than 5% 0f na values.It can be modified based on requirements."
   ]
  },
  {
   "cell_type": "code",
   "execution_count": 4,
   "metadata": {},
   "outputs": [
    {
     "name": "stdout",
     "output_type": "stream",
     "text": [
      "LotFrontage  -  0.1773972602739726\n",
      "Alley  -  0.9376712328767123\n",
      "FireplaceQu  -  0.4726027397260274\n",
      "GarageType  -  0.05547945205479452\n",
      "GarageYrBlt  -  0.05547945205479452\n",
      "GarageFinish  -  0.05547945205479452\n",
      "GarageQual  -  0.05547945205479452\n",
      "GarageCond  -  0.05547945205479452\n",
      "PoolQC  -  0.9952054794520548\n",
      "Fence  -  0.8075342465753425\n",
      "MiscFeature  -  0.963013698630137\n"
     ]
    },
    {
     "data": {
      "text/plain": [
       "(1460, 70)"
      ]
     },
     "execution_count": 4,
     "metadata": {},
     "output_type": "execute_result"
    }
   ],
   "source": [
    "null_ratio=data.isnull().sum()/data.shape[0]\n",
    "feature=data.columns\n",
    "for i in range(len(null_ratio)):\n",
    "    if null_ratio[i]>0.05:\n",
    "        print(feature[i],\" - \",null_ratio[i])\n",
    "        data=data.drop(feature[i],1)\n",
    "data.shape"
   ]
  },
  {
   "cell_type": "code",
   "execution_count": 5,
   "metadata": {},
   "outputs": [],
   "source": [
    "data=data.dropna()"
   ]
  },
  {
   "cell_type": "code",
   "execution_count": 6,
   "metadata": {},
   "outputs": [
    {
     "data": {
      "text/plain": [
       "(1412, 36)"
      ]
     },
     "execution_count": 6,
     "metadata": {},
     "output_type": "execute_result"
    }
   ],
   "source": [
    "datatype=['int16','int32','int64','float16','float32','float64']\n",
    "data= data.select_dtypes(include=datatype)\n",
    "data.shape"
   ]
  },
  {
   "cell_type": "code",
   "execution_count": 7,
   "metadata": {},
   "outputs": [],
   "source": [
    "data=data.drop('Id',1)"
   ]
  },
  {
   "cell_type": "markdown",
   "metadata": {},
   "source": [
    "Select only variables with 50 to 85% of positive and negative correlations."
   ]
  },
  {
   "cell_type": "code",
   "execution_count": 8,
   "metadata": {},
   "outputs": [
    {
     "name": "stdout",
     "output_type": "stream",
     "text": [
      "OverallQual\n",
      "YearBuilt\n",
      "YearRemodAdd\n",
      "TotalBsmtSF\n",
      "1stFlrSF\n",
      "GrLivArea\n",
      "FullBath\n",
      "TotRmsAbvGrd\n",
      "GarageCars\n",
      "GarageArea\n"
     ]
    }
   ],
   "source": [
    "correlation=data.corr()\n",
    "feat_list=['SalePrice']\n",
    "fea=correlation['SalePrice'].values\n",
    "ind=correlation['SalePrice'].index\n",
    "for i in range (len(fea)):\n",
    "    val=abs(fea[i])\n",
    "    if (val>0.5 and val<0.85):\n",
    "        print(ind[i])\n",
    "        feat_list.append(ind[i])"
   ]
  },
  {
   "cell_type": "code",
   "execution_count": 9,
   "metadata": {},
   "outputs": [],
   "source": [
    "feat_data=data[feat_list]\n",
    "x=feat_data.iloc[:,1:]\n",
    "y=feat_data.iloc[:,0]"
   ]
  },
  {
   "cell_type": "code",
   "execution_count": 10,
   "metadata": {},
   "outputs": [],
   "source": [
    "def split_train(x1,y1,size):\n",
    "    x_train,x_test,y_train,y_test=train_test_split(x1,y1,test_size=size,random_state=0)\n",
    "    return [x_train,x_test,y_train,y_test]\n",
    "def linear_regression(x_train,y_train,x_test):\n",
    "    reg = linear_model.LinearRegression() \n",
    "    reg.fit(x_train,y_train)\n",
    "    pred=reg.predict(x_test)\n",
    "    print('Coefficients: \\n',reg.coef_) \n",
    "    print('Variance score: {}'.format(reg.score(x_test,y_test))) \n",
    "    return pred\n",
    "def metrics_calculations(y_test,y_pred):\n",
    "    print(\"RMSE/Root Mean Square Error\",math.sqrt(metrics.mean_squared_error(y_test,y_pred)))\n",
    "    print(\"R2 Score\",metrics.r2_score(y_test,y_pred))"
   ]
  },
  {
   "cell_type": "markdown",
   "metadata": {},
   "source": [
    "Use sklearn linear regression ."
   ]
  },
  {
   "cell_type": "code",
   "execution_count": 11,
   "metadata": {},
   "outputs": [
    {
     "name": "stdout",
     "output_type": "stream",
     "text": [
      "Coefficients: \n",
      " [ 2.02306070e+04  2.72331080e+02  3.20544135e+02  1.86940598e+01\n",
      "  1.52298073e+01  4.18725764e+01 -9.73090495e+03  3.26400034e+03\n",
      "  1.20665096e+04  1.34968248e+01]\n",
      "Variance score: 0.8114658110446642\n",
      "RMSE/Root Mean Square Error 34812.17806816999\n",
      "R2 Score 0.8114658110446642\n"
     ]
    }
   ],
   "source": [
    "result=split_train(x,y,0.2)\n",
    "x_train=result[0]\n",
    "x_test=result[1]\n",
    "y_train=result[2]\n",
    "y_test=result[3]\n",
    "y_pred=linear_regression(x_train,y_train,x_test)\n",
    "metrics_calculations(y_test,y_pred)"
   ]
  },
  {
   "cell_type": "markdown",
   "metadata": {},
   "source": [
    "Problem 4: Use the diabetes.pickle dataset and this time try to find the weights using a gradient\n",
    "descent optimizer minimize by varying the lambda values of your choice and compare the\n",
    "errors/accuracy you get. Comment on your findings."
   ]
  },
  {
   "cell_type": "code",
   "execution_count": 12,
   "metadata": {},
   "outputs": [],
   "source": [
    "import pandas as pd\n",
    "import numpy as np\n",
    "import random"
   ]
  },
  {
   "cell_type": "code",
   "execution_count": 13,
   "metadata": {},
   "outputs": [],
   "source": [
    "dia_data=pd.read_csv('diabetes.csv')"
   ]
  },
  {
   "cell_type": "code",
   "execution_count": 14,
   "metadata": {},
   "outputs": [
    {
     "data": {
      "text/html": [
       "<div>\n",
       "<style scoped>\n",
       "    .dataframe tbody tr th:only-of-type {\n",
       "        vertical-align: middle;\n",
       "    }\n",
       "\n",
       "    .dataframe tbody tr th {\n",
       "        vertical-align: top;\n",
       "    }\n",
       "\n",
       "    .dataframe thead th {\n",
       "        text-align: right;\n",
       "    }\n",
       "</style>\n",
       "<table border=\"1\" class=\"dataframe\">\n",
       "  <thead>\n",
       "    <tr style=\"text-align: right;\">\n",
       "      <th></th>\n",
       "      <th>Pregnancies</th>\n",
       "      <th>Glucose</th>\n",
       "      <th>BloodPressure</th>\n",
       "      <th>SkinThickness</th>\n",
       "      <th>Insulin</th>\n",
       "      <th>BMI</th>\n",
       "      <th>DiabetesPedigreeFunction</th>\n",
       "      <th>Age</th>\n",
       "      <th>Outcome</th>\n",
       "    </tr>\n",
       "  </thead>\n",
       "  <tbody>\n",
       "    <tr>\n",
       "      <th>0</th>\n",
       "      <td>6</td>\n",
       "      <td>148</td>\n",
       "      <td>72</td>\n",
       "      <td>35</td>\n",
       "      <td>0</td>\n",
       "      <td>33.6</td>\n",
       "      <td>0.627</td>\n",
       "      <td>50</td>\n",
       "      <td>1</td>\n",
       "    </tr>\n",
       "    <tr>\n",
       "      <th>1</th>\n",
       "      <td>1</td>\n",
       "      <td>85</td>\n",
       "      <td>66</td>\n",
       "      <td>29</td>\n",
       "      <td>0</td>\n",
       "      <td>26.6</td>\n",
       "      <td>0.351</td>\n",
       "      <td>31</td>\n",
       "      <td>0</td>\n",
       "    </tr>\n",
       "    <tr>\n",
       "      <th>2</th>\n",
       "      <td>8</td>\n",
       "      <td>183</td>\n",
       "      <td>64</td>\n",
       "      <td>0</td>\n",
       "      <td>0</td>\n",
       "      <td>23.3</td>\n",
       "      <td>0.672</td>\n",
       "      <td>32</td>\n",
       "      <td>1</td>\n",
       "    </tr>\n",
       "    <tr>\n",
       "      <th>3</th>\n",
       "      <td>1</td>\n",
       "      <td>89</td>\n",
       "      <td>66</td>\n",
       "      <td>23</td>\n",
       "      <td>94</td>\n",
       "      <td>28.1</td>\n",
       "      <td>0.167</td>\n",
       "      <td>21</td>\n",
       "      <td>0</td>\n",
       "    </tr>\n",
       "    <tr>\n",
       "      <th>4</th>\n",
       "      <td>0</td>\n",
       "      <td>137</td>\n",
       "      <td>40</td>\n",
       "      <td>35</td>\n",
       "      <td>168</td>\n",
       "      <td>43.1</td>\n",
       "      <td>2.288</td>\n",
       "      <td>33</td>\n",
       "      <td>1</td>\n",
       "    </tr>\n",
       "  </tbody>\n",
       "</table>\n",
       "</div>"
      ],
      "text/plain": [
       "   Pregnancies  Glucose  BloodPressure  SkinThickness  Insulin   BMI  \\\n",
       "0            6      148             72             35        0  33.6   \n",
       "1            1       85             66             29        0  26.6   \n",
       "2            8      183             64              0        0  23.3   \n",
       "3            1       89             66             23       94  28.1   \n",
       "4            0      137             40             35      168  43.1   \n",
       "\n",
       "   DiabetesPedigreeFunction  Age  Outcome  \n",
       "0                     0.627   50        1  \n",
       "1                     0.351   31        0  \n",
       "2                     0.672   32        1  \n",
       "3                     0.167   21        0  \n",
       "4                     2.288   33        1  "
      ]
     },
     "execution_count": 14,
     "metadata": {},
     "output_type": "execute_result"
    }
   ],
   "source": [
    "dia_data.head()"
   ]
  },
  {
   "cell_type": "code",
   "execution_count": 15,
   "metadata": {},
   "outputs": [],
   "source": [
    "dia_data.isnull().sum()\n",
    "feature=dia_data.columns\n",
    "dep_col=list(feature[0:10])"
   ]
  },
  {
   "cell_type": "markdown",
   "metadata": {},
   "source": [
    "Normalize the data"
   ]
  },
  {
   "cell_type": "code",
   "execution_count": 16,
   "metadata": {},
   "outputs": [
    {
     "data": {
      "text/html": [
       "<div>\n",
       "<style scoped>\n",
       "    .dataframe tbody tr th:only-of-type {\n",
       "        vertical-align: middle;\n",
       "    }\n",
       "\n",
       "    .dataframe tbody tr th {\n",
       "        vertical-align: top;\n",
       "    }\n",
       "\n",
       "    .dataframe thead th {\n",
       "        text-align: right;\n",
       "    }\n",
       "</style>\n",
       "<table border=\"1\" class=\"dataframe\">\n",
       "  <thead>\n",
       "    <tr style=\"text-align: right;\">\n",
       "      <th></th>\n",
       "      <th>Pregnancies</th>\n",
       "      <th>Glucose</th>\n",
       "      <th>BloodPressure</th>\n",
       "      <th>SkinThickness</th>\n",
       "      <th>Insulin</th>\n",
       "      <th>BMI</th>\n",
       "      <th>DiabetesPedigreeFunction</th>\n",
       "      <th>Age</th>\n",
       "      <th>Outcome</th>\n",
       "    </tr>\n",
       "  </thead>\n",
       "  <tbody>\n",
       "    <tr>\n",
       "      <th>0</th>\n",
       "      <td>0.639530</td>\n",
       "      <td>0.847771</td>\n",
       "      <td>0.149543</td>\n",
       "      <td>0.906679</td>\n",
       "      <td>-0.692439</td>\n",
       "      <td>0.203880</td>\n",
       "      <td>0.468187</td>\n",
       "      <td>1.425067</td>\n",
       "      <td>1.365006</td>\n",
       "    </tr>\n",
       "    <tr>\n",
       "      <th>1</th>\n",
       "      <td>-0.844335</td>\n",
       "      <td>-1.122665</td>\n",
       "      <td>-0.160441</td>\n",
       "      <td>0.530556</td>\n",
       "      <td>-0.692439</td>\n",
       "      <td>-0.683976</td>\n",
       "      <td>-0.364823</td>\n",
       "      <td>-0.190548</td>\n",
       "      <td>-0.731643</td>\n",
       "    </tr>\n",
       "    <tr>\n",
       "      <th>2</th>\n",
       "      <td>1.233077</td>\n",
       "      <td>1.942458</td>\n",
       "      <td>-0.263769</td>\n",
       "      <td>-1.287373</td>\n",
       "      <td>-0.692439</td>\n",
       "      <td>-1.102537</td>\n",
       "      <td>0.604004</td>\n",
       "      <td>-0.105515</td>\n",
       "      <td>1.365006</td>\n",
       "    </tr>\n",
       "    <tr>\n",
       "      <th>3</th>\n",
       "      <td>-0.844335</td>\n",
       "      <td>-0.997558</td>\n",
       "      <td>-0.160441</td>\n",
       "      <td>0.154433</td>\n",
       "      <td>0.123221</td>\n",
       "      <td>-0.493721</td>\n",
       "      <td>-0.920163</td>\n",
       "      <td>-1.040871</td>\n",
       "      <td>-0.731643</td>\n",
       "    </tr>\n",
       "    <tr>\n",
       "      <th>4</th>\n",
       "      <td>-1.141108</td>\n",
       "      <td>0.503727</td>\n",
       "      <td>-1.503707</td>\n",
       "      <td>0.906679</td>\n",
       "      <td>0.765337</td>\n",
       "      <td>1.408828</td>\n",
       "      <td>5.481337</td>\n",
       "      <td>-0.020483</td>\n",
       "      <td>1.365006</td>\n",
       "    </tr>\n",
       "  </tbody>\n",
       "</table>\n",
       "</div>"
      ],
      "text/plain": [
       "   Pregnancies   Glucose  BloodPressure  SkinThickness   Insulin       BMI  \\\n",
       "0     0.639530  0.847771       0.149543       0.906679 -0.692439  0.203880   \n",
       "1    -0.844335 -1.122665      -0.160441       0.530556 -0.692439 -0.683976   \n",
       "2     1.233077  1.942458      -0.263769      -1.287373 -0.692439 -1.102537   \n",
       "3    -0.844335 -0.997558      -0.160441       0.154433  0.123221 -0.493721   \n",
       "4    -1.141108  0.503727      -1.503707       0.906679  0.765337  1.408828   \n",
       "\n",
       "   DiabetesPedigreeFunction       Age   Outcome  \n",
       "0                  0.468187  1.425067  1.365006  \n",
       "1                 -0.364823 -0.190548 -0.731643  \n",
       "2                  0.604004 -0.105515  1.365006  \n",
       "3                 -0.920163 -1.040871 -0.731643  \n",
       "4                  5.481337 -0.020483  1.365006  "
      ]
     },
     "execution_count": 16,
     "metadata": {},
     "output_type": "execute_result"
    }
   ],
   "source": [
    "feat_data=dia_data[dep_col]\n",
    "my_data = (feat_data - feat_data.mean())/feat_data.std()\n",
    "my_data.head()"
   ]
  },
  {
   "cell_type": "code",
   "execution_count": 17,
   "metadata": {},
   "outputs": [
    {
     "data": {
      "text/plain": [
       "(768, 9)"
      ]
     },
     "execution_count": 17,
     "metadata": {},
     "output_type": "execute_result"
    }
   ],
   "source": [
    "dia_data.shape"
   ]
  },
  {
   "cell_type": "code",
   "execution_count": 18,
   "metadata": {},
   "outputs": [
    {
     "data": {
      "text/plain": [
       "Pregnancies                 0\n",
       "Glucose                     0\n",
       "BloodPressure               0\n",
       "SkinThickness               0\n",
       "Insulin                     0\n",
       "BMI                         0\n",
       "DiabetesPedigreeFunction    0\n",
       "Age                         0\n",
       "Outcome                     0\n",
       "dtype: int64"
      ]
     },
     "execution_count": 18,
     "metadata": {},
     "output_type": "execute_result"
    }
   ],
   "source": [
    "dia_data.isnull().sum()"
   ]
  },
  {
   "cell_type": "markdown",
   "metadata": {},
   "source": [
    "Store dependent and independent features in separate variables,Also concatenate one column with 1 for all rows for intercept"
   ]
  },
  {
   "cell_type": "code",
   "execution_count": 19,
   "metadata": {},
   "outputs": [],
   "source": [
    "X = my_data.iloc[:,0:8].values\n",
    "pre_col= my_data.iloc[:,0:8].columns\n",
    "ones = np.ones([X.shape[0],1])\n",
    "y = my_data.iloc[:,8:].values #.values converts it from pandas.core.frame.DataFrame to numpy.ndarray\n",
    "theta = np.zeros([1,9])\n",
    "alpha = 0.01\n",
    "iters = 100000\n",
    "X = np.concatenate((ones,X),axis=1)\n",
    "result=split_train(X,y,0.2)\n",
    "x_train=result[0]\n",
    "x_test=result[1]\n",
    "y_train=result[2]\n",
    "y_test=result[3]"
   ]
  },
  {
   "cell_type": "markdown",
   "metadata": {},
   "source": [
    "User Defined function to compute and weights using gradient descent and compute the cost."
   ]
  },
  {
   "cell_type": "code",
   "execution_count": 20,
   "metadata": {},
   "outputs": [
    {
     "name": "stdout",
     "output_type": "stream",
     "text": [
      "Intercept- -7.828460102388111e-16\n",
      "Weights- [ 0.14547797  0.39686776 -0.09463313  0.0051681  -0.04362189  0.21892812\n",
      "  0.10228291  0.06463593]\n",
      "0.34791984090870437\n",
      "RMSE/Root Mean Square Error 0.7859836608900899\n",
      "R2 Score 0.33727240189348306\n"
     ]
    }
   ],
   "source": [
    "def computeCost(X,y,theta):\n",
    "    tobesummed = np.power(((X @ theta.T)-y),2)\n",
    "    return np.sum(tobesummed)/(2 * len(X))\n",
    "def gradientDescent(X,y,theta,iters,alpha):\n",
    "    cost = np.zeros(iters)\n",
    "    for i in range(iters):\n",
    "        theta = theta - (alpha/len(X)) * np.sum(X*(np.dot(X,theta.T) - y), axis=0)\n",
    "        #theta =np.sum(X * (np.dot(X,theta.T) - y),axis=1)\n",
    "        cost[i] = computeCost(X, y, theta) \n",
    "    return theta,cost\n",
    "def predict(g,x_test):\n",
    "    y_pred=[]\n",
    "    for i in range(len(x_test)):\n",
    "        y_pred.append(sum(g[0][1:]*(x_test[i,1:]))+g[0][0])\n",
    "        '''for j in range(len(g[0])):\n",
    "            if j==0:\n",
    "                res=res+g[0][j]\n",
    "            else:\n",
    "                res=res+(g[0][j]*x_test.iloc[i][pre_col[j-1]])\n",
    "        y_pred.append(res)'''\n",
    "    return y_pred\n",
    "#running the gd and cost function\n",
    "g,cost = gradientDescent(X,y,theta,iters,alpha)\n",
    "print(\"Intercept-\",g[0][0])\n",
    "print(\"Weights-\",g[0][1:])\n",
    "finalCost = computeCost(X,y,g)\n",
    "print(finalCost)\n",
    "y_pred=predict(g,x_test)\n",
    "#print(y_pred)\n",
    "metrics_calculations(y_test,y_pred)"
   ]
  },
  {
   "cell_type": "markdown",
   "metadata": {
    "collapsed": true
   },
   "source": [
    "Problem 3: Use Ridge regression function build it from scratch that we had discussed in session\n",
    "and apply it on the data set and compare it with the previous accuracy findings"
   ]
  },
  {
   "cell_type": "code",
   "execution_count": 21,
   "metadata": {},
   "outputs": [
    {
     "name": "stdout",
     "output_type": "stream",
     "text": [
      "Intercept- -7.824296766045798e-16\n",
      "Weights- [ 0.14531864  0.39662639 -0.09464663  0.00493099 -0.04335966  0.21907853\n",
      "  0.10227431  0.06486198]\n",
      "534.656918615809\n",
      "RMSE/Root Mean Square Error 0.7859958685305171\n",
      "R2 Score 0.3372518151982382\n"
     ]
    }
   ],
   "source": [
    "def computeCost_ri(X,y,theta):\n",
    "    tobesummed = np.power(((X @ theta.T)-y),2)\n",
    "    valu=np.sum(tobesummed)\n",
    "    for j in range(1,len(theta[0])):\n",
    "        valu=valu+(theta[0][j]**2)\n",
    "    return valu\n",
    "def gradientDescent_ri(X,y,theta,iters,alpha):\n",
    "    #cost = np.zeros(iters)\n",
    "    weight=theta\n",
    "    min_cost=math.inf\n",
    "    for i in range(iters):\n",
    "        theta = theta - (alpha/len(X)) * np.sum(X*(np.dot(X,theta.T) - y), axis=0)\n",
    "        cost = computeCost_ri(X,y,theta)\n",
    "        if cost<min_cost:\n",
    "            min_cost=cost\n",
    "            weight=theta\n",
    "    return weight,min_cost\n",
    "def predict(g,x_test):\n",
    "    y_pred=[]\n",
    "    for i in range(len(x_test)):\n",
    "        y_pred.append(sum(g[0][1:]*(x_test[i,1:]))+g[0][0])\n",
    "        '''for j in range(len(g[0])):\n",
    "            if j==0:\n",
    "                res=res+g[0][j]\n",
    "            else:\n",
    "                res=res+(g[0][j]*x_test.iloc[i][pre_col[j-1]])\n",
    "        y_pred.append(res)'''\n",
    "    return y_pred\n",
    "#running the gd and cost function\n",
    "g,cost = gradientDescent_ri(X,y,theta,iters,alpha)\n",
    "print(\"Intercept-\",g[0][0])\n",
    "print(\"Weights-\",g[0][1:])\n",
    "finalCost = computeCost_ri(X,y,g)\n",
    "print(finalCost)\n",
    "y_pred=predict(g,x_test)\n",
    "#print(y_pred)\n",
    "metrics_calculations(y_test,y_pred)"
   ]
  },
  {
   "cell_type": "code",
   "execution_count": null,
   "metadata": {
    "collapsed": true
   },
   "outputs": [],
   "source": []
  },
  {
   "cell_type": "code",
   "execution_count": null,
   "metadata": {
    "collapsed": true
   },
   "outputs": [],
   "source": []
  }
 ],
 "metadata": {
  "kernelspec": {
   "display_name": "Python 3",
   "language": "python",
   "name": "python3"
  },
  "language_info": {
   "codemirror_mode": {
    "name": "ipython",
    "version": 3
   },
   "file_extension": ".py",
   "mimetype": "text/x-python",
   "name": "python",
   "nbconvert_exporter": "python",
   "pygments_lexer": "ipython3",
   "version": "3.6.9"
  }
 },
 "nbformat": 4,
 "nbformat_minor": 2
}
